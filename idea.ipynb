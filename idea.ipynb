{
 "cells": [
  {
   "cell_type": "code",
   "execution_count": 43,
   "metadata": {},
   "outputs": [],
   "source": [
    "import pandas as pd\n",
    "import seaborn as sns\n",
    "import matplotlib.pyplot as plt\n",
    "import plotly.graph_objects as go\n",
    "\n",
    "from bs4 import BeautifulSoup as bs\n",
    "import pandas as pd\n",
    "import requests"
   ]
  },
  {
   "cell_type": "code",
   "execution_count": 44,
   "metadata": {},
   "outputs": [
    {
     "data": {
      "text/html": [
       "<div>\n",
       "<style scoped>\n",
       "    .dataframe tbody tr th:only-of-type {\n",
       "        vertical-align: middle;\n",
       "    }\n",
       "\n",
       "    .dataframe tbody tr th {\n",
       "        vertical-align: top;\n",
       "    }\n",
       "\n",
       "    .dataframe thead th {\n",
       "        text-align: right;\n",
       "    }\n",
       "</style>\n",
       "<table border=\"1\" class=\"dataframe\">\n",
       "  <thead>\n",
       "    <tr style=\"text-align: right;\">\n",
       "      <th></th>\n",
       "      <th>player_id</th>\n",
       "      <th>player_name</th>\n",
       "      <th>yearDraft</th>\n",
       "      <th>yearCombine</th>\n",
       "      <th>numberPickOverall</th>\n",
       "      <th>position</th>\n",
       "      <th>height</th>\n",
       "      <th>weight</th>\n",
       "      <th>wingspan</th>\n",
       "      <th>reach_standing</th>\n",
       "      <th>standing_vertical</th>\n",
       "      <th>max_vertical</th>\n",
       "      <th>bench_reps</th>\n",
       "      <th>timeLaneAgility</th>\n",
       "      <th>timeThreeQuarterCourtSprint</th>\n",
       "      <th>timeModifiedLaneAgility</th>\n",
       "      <th>lengthHandInches</th>\n",
       "      <th>widthHandInches</th>\n",
       "      <th>body_fat_pct</th>\n",
       "      <th>drafted</th>\n",
       "    </tr>\n",
       "  </thead>\n",
       "  <tbody>\n",
       "    <tr>\n",
       "      <th>0</th>\n",
       "      <td>202701.0</td>\n",
       "      <td>Nolan Smith</td>\n",
       "      <td>2011.0</td>\n",
       "      <td>2011</td>\n",
       "      <td>21.0</td>\n",
       "      <td>PG</td>\n",
       "      <td>73.50</td>\n",
       "      <td>187.6</td>\n",
       "      <td>77.50</td>\n",
       "      <td>99.0</td>\n",
       "      <td>28.5</td>\n",
       "      <td>34.0</td>\n",
       "      <td>9.0</td>\n",
       "      <td>11.05</td>\n",
       "      <td>3.17</td>\n",
       "      <td>NaN</td>\n",
       "      <td>8.50</td>\n",
       "      <td>9.25</td>\n",
       "      <td>5.6</td>\n",
       "      <td>True</td>\n",
       "    </tr>\n",
       "    <tr>\n",
       "      <th>1</th>\n",
       "      <td>203078.0</td>\n",
       "      <td>Bradley Beal</td>\n",
       "      <td>2012.0</td>\n",
       "      <td>2012</td>\n",
       "      <td>3.0</td>\n",
       "      <td>SG</td>\n",
       "      <td>75.25</td>\n",
       "      <td>201.8</td>\n",
       "      <td>80.00</td>\n",
       "      <td>100.0</td>\n",
       "      <td>33.0</td>\n",
       "      <td>39.0</td>\n",
       "      <td>8.0</td>\n",
       "      <td>10.95</td>\n",
       "      <td>3.28</td>\n",
       "      <td>NaN</td>\n",
       "      <td>8.50</td>\n",
       "      <td>9.00</td>\n",
       "      <td>6.0</td>\n",
       "      <td>True</td>\n",
       "    </tr>\n",
       "    <tr>\n",
       "      <th>2</th>\n",
       "      <td>2049.0</td>\n",
       "      <td>Speedy Claxton</td>\n",
       "      <td>2000.0</td>\n",
       "      <td>2000</td>\n",
       "      <td>20.0</td>\n",
       "      <td>PG</td>\n",
       "      <td>70.50</td>\n",
       "      <td>166.0</td>\n",
       "      <td>72.00</td>\n",
       "      <td>94.5</td>\n",
       "      <td>36.0</td>\n",
       "      <td>42.5</td>\n",
       "      <td>6.0</td>\n",
       "      <td>10.48</td>\n",
       "      <td>3.06</td>\n",
       "      <td>NaN</td>\n",
       "      <td>NaN</td>\n",
       "      <td>NaN</td>\n",
       "      <td>NaN</td>\n",
       "      <td>True</td>\n",
       "    </tr>\n",
       "    <tr>\n",
       "      <th>3</th>\n",
       "      <td>202718.0</td>\n",
       "      <td>Chandler Parsons</td>\n",
       "      <td>2011.0</td>\n",
       "      <td>2011</td>\n",
       "      <td>38.0</td>\n",
       "      <td>SF</td>\n",
       "      <td>80.75</td>\n",
       "      <td>221.2</td>\n",
       "      <td>81.50</td>\n",
       "      <td>104.5</td>\n",
       "      <td>25.5</td>\n",
       "      <td>31.5</td>\n",
       "      <td>4.0</td>\n",
       "      <td>11.05</td>\n",
       "      <td>3.29</td>\n",
       "      <td>NaN</td>\n",
       "      <td>8.25</td>\n",
       "      <td>10.00</td>\n",
       "      <td>7.0</td>\n",
       "      <td>True</td>\n",
       "    </tr>\n",
       "    <tr>\n",
       "      <th>4</th>\n",
       "      <td>201446.0</td>\n",
       "      <td>Mike Taylor</td>\n",
       "      <td>2008.0</td>\n",
       "      <td>2008</td>\n",
       "      <td>55.0</td>\n",
       "      <td>SG-PG</td>\n",
       "      <td>72.75</td>\n",
       "      <td>166.2</td>\n",
       "      <td>79.25</td>\n",
       "      <td>98.0</td>\n",
       "      <td>31.0</td>\n",
       "      <td>39.0</td>\n",
       "      <td>2.0</td>\n",
       "      <td>10.98</td>\n",
       "      <td>3.08</td>\n",
       "      <td>NaN</td>\n",
       "      <td>NaN</td>\n",
       "      <td>NaN</td>\n",
       "      <td>3.8</td>\n",
       "      <td>True</td>\n",
       "    </tr>\n",
       "    <tr>\n",
       "      <th>...</th>\n",
       "      <td>...</td>\n",
       "      <td>...</td>\n",
       "      <td>...</td>\n",
       "      <td>...</td>\n",
       "      <td>...</td>\n",
       "      <td>...</td>\n",
       "      <td>...</td>\n",
       "      <td>...</td>\n",
       "      <td>...</td>\n",
       "      <td>...</td>\n",
       "      <td>...</td>\n",
       "      <td>...</td>\n",
       "      <td>...</td>\n",
       "      <td>...</td>\n",
       "      <td>...</td>\n",
       "      <td>...</td>\n",
       "      <td>...</td>\n",
       "      <td>...</td>\n",
       "      <td>...</td>\n",
       "      <td>...</td>\n",
       "    </tr>\n",
       "    <tr>\n",
       "      <th>1111</th>\n",
       "      <td>1629617.0</td>\n",
       "      <td>Reggie Perry</td>\n",
       "      <td>2020.0</td>\n",
       "      <td>2019</td>\n",
       "      <td>57.0</td>\n",
       "      <td>SF-PF</td>\n",
       "      <td>80.00</td>\n",
       "      <td>250.8</td>\n",
       "      <td>84.50</td>\n",
       "      <td>106.0</td>\n",
       "      <td>28.5</td>\n",
       "      <td>31.5</td>\n",
       "      <td>15.0</td>\n",
       "      <td>12.46</td>\n",
       "      <td>3.30</td>\n",
       "      <td>3.40</td>\n",
       "      <td>9.00</td>\n",
       "      <td>10.00</td>\n",
       "      <td>6.7</td>\n",
       "      <td>True</td>\n",
       "    </tr>\n",
       "    <tr>\n",
       "      <th>1112</th>\n",
       "      <td>12132.0</td>\n",
       "      <td>Eric Coley</td>\n",
       "      <td>NaN</td>\n",
       "      <td>2000</td>\n",
       "      <td>NaN</td>\n",
       "      <td>SG-SF</td>\n",
       "      <td>76.00</td>\n",
       "      <td>205.0</td>\n",
       "      <td>83.00</td>\n",
       "      <td>102.0</td>\n",
       "      <td>35.0</td>\n",
       "      <td>38.0</td>\n",
       "      <td>10.0</td>\n",
       "      <td>11.40</td>\n",
       "      <td>3.15</td>\n",
       "      <td>NaN</td>\n",
       "      <td>NaN</td>\n",
       "      <td>NaN</td>\n",
       "      <td>NaN</td>\n",
       "      <td>False</td>\n",
       "    </tr>\n",
       "    <tr>\n",
       "      <th>1113</th>\n",
       "      <td>2090.0</td>\n",
       "      <td>Justin Love</td>\n",
       "      <td>NaN</td>\n",
       "      <td>2000</td>\n",
       "      <td>NaN</td>\n",
       "      <td>PG-SG</td>\n",
       "      <td>73.50</td>\n",
       "      <td>205.5</td>\n",
       "      <td>76.50</td>\n",
       "      <td>97.5</td>\n",
       "      <td>31.0</td>\n",
       "      <td>38.5</td>\n",
       "      <td>24.0</td>\n",
       "      <td>10.99</td>\n",
       "      <td>3.31</td>\n",
       "      <td>NaN</td>\n",
       "      <td>NaN</td>\n",
       "      <td>NaN</td>\n",
       "      <td>NaN</td>\n",
       "      <td>False</td>\n",
       "    </tr>\n",
       "    <tr>\n",
       "      <th>1114</th>\n",
       "      <td>1628977.0</td>\n",
       "      <td>Hamidou Diallo</td>\n",
       "      <td>2018.0</td>\n",
       "      <td>2017</td>\n",
       "      <td>45.0</td>\n",
       "      <td>SG-SF</td>\n",
       "      <td>75.75</td>\n",
       "      <td>197.4</td>\n",
       "      <td>83.25</td>\n",
       "      <td>101.5</td>\n",
       "      <td>34.5</td>\n",
       "      <td>44.5</td>\n",
       "      <td>0.0</td>\n",
       "      <td>10.88</td>\n",
       "      <td>3.11</td>\n",
       "      <td>2.79</td>\n",
       "      <td>8.50</td>\n",
       "      <td>9.50</td>\n",
       "      <td>5.2</td>\n",
       "      <td>True</td>\n",
       "    </tr>\n",
       "    <tr>\n",
       "      <th>1115</th>\n",
       "      <td>2213.0</td>\n",
       "      <td>Kirk Haston</td>\n",
       "      <td>2001.0</td>\n",
       "      <td>2001</td>\n",
       "      <td>16.0</td>\n",
       "      <td>PF-SF</td>\n",
       "      <td>80.00</td>\n",
       "      <td>242.0</td>\n",
       "      <td>84.25</td>\n",
       "      <td>106.0</td>\n",
       "      <td>27.0</td>\n",
       "      <td>31.5</td>\n",
       "      <td>11.0</td>\n",
       "      <td>12.25</td>\n",
       "      <td>3.35</td>\n",
       "      <td>NaN</td>\n",
       "      <td>NaN</td>\n",
       "      <td>NaN</td>\n",
       "      <td>10.5</td>\n",
       "      <td>True</td>\n",
       "    </tr>\n",
       "  </tbody>\n",
       "</table>\n",
       "<p>1116 rows × 20 columns</p>\n",
       "</div>"
      ],
      "text/plain": [
       "      player_id       player_name  yearDraft  yearCombine  numberPickOverall  \\\n",
       "0      202701.0       Nolan Smith     2011.0         2011               21.0   \n",
       "1      203078.0      Bradley Beal     2012.0         2012                3.0   \n",
       "2        2049.0    Speedy Claxton     2000.0         2000               20.0   \n",
       "3      202718.0  Chandler Parsons     2011.0         2011               38.0   \n",
       "4      201446.0       Mike Taylor     2008.0         2008               55.0   \n",
       "...         ...               ...        ...          ...                ...   \n",
       "1111  1629617.0      Reggie Perry     2020.0         2019               57.0   \n",
       "1112    12132.0        Eric Coley        NaN         2000                NaN   \n",
       "1113     2090.0       Justin Love        NaN         2000                NaN   \n",
       "1114  1628977.0    Hamidou Diallo     2018.0         2017               45.0   \n",
       "1115     2213.0       Kirk Haston     2001.0         2001               16.0   \n",
       "\n",
       "     position  height  weight  wingspan  reach_standing  standing_vertical  \\\n",
       "0          PG   73.50   187.6     77.50            99.0               28.5   \n",
       "1          SG   75.25   201.8     80.00           100.0               33.0   \n",
       "2          PG   70.50   166.0     72.00            94.5               36.0   \n",
       "3          SF   80.75   221.2     81.50           104.5               25.5   \n",
       "4       SG-PG   72.75   166.2     79.25            98.0               31.0   \n",
       "...       ...     ...     ...       ...             ...                ...   \n",
       "1111    SF-PF   80.00   250.8     84.50           106.0               28.5   \n",
       "1112    SG-SF   76.00   205.0     83.00           102.0               35.0   \n",
       "1113    PG-SG   73.50   205.5     76.50            97.5               31.0   \n",
       "1114    SG-SF   75.75   197.4     83.25           101.5               34.5   \n",
       "1115    PF-SF   80.00   242.0     84.25           106.0               27.0   \n",
       "\n",
       "      max_vertical  bench_reps  timeLaneAgility  timeThreeQuarterCourtSprint  \\\n",
       "0             34.0         9.0            11.05                         3.17   \n",
       "1             39.0         8.0            10.95                         3.28   \n",
       "2             42.5         6.0            10.48                         3.06   \n",
       "3             31.5         4.0            11.05                         3.29   \n",
       "4             39.0         2.0            10.98                         3.08   \n",
       "...            ...         ...              ...                          ...   \n",
       "1111          31.5        15.0            12.46                         3.30   \n",
       "1112          38.0        10.0            11.40                         3.15   \n",
       "1113          38.5        24.0            10.99                         3.31   \n",
       "1114          44.5         0.0            10.88                         3.11   \n",
       "1115          31.5        11.0            12.25                         3.35   \n",
       "\n",
       "      timeModifiedLaneAgility  lengthHandInches  widthHandInches  \\\n",
       "0                         NaN              8.50             9.25   \n",
       "1                         NaN              8.50             9.00   \n",
       "2                         NaN               NaN              NaN   \n",
       "3                         NaN              8.25            10.00   \n",
       "4                         NaN               NaN              NaN   \n",
       "...                       ...               ...              ...   \n",
       "1111                     3.40              9.00            10.00   \n",
       "1112                      NaN               NaN              NaN   \n",
       "1113                      NaN               NaN              NaN   \n",
       "1114                     2.79              8.50             9.50   \n",
       "1115                      NaN               NaN              NaN   \n",
       "\n",
       "      body_fat_pct  drafted  \n",
       "0              5.6     True  \n",
       "1              6.0     True  \n",
       "2              NaN     True  \n",
       "3              7.0     True  \n",
       "4              3.8     True  \n",
       "...            ...      ...  \n",
       "1111           6.7     True  \n",
       "1112           NaN    False  \n",
       "1113           NaN    False  \n",
       "1114           5.2     True  \n",
       "1115          10.5     True  \n",
       "\n",
       "[1116 rows x 20 columns]"
      ]
     },
     "execution_count": 44,
     "metadata": {},
     "output_type": "execute_result"
    }
   ],
   "source": [
    "df = pd.read_csv(\"draft_combine_train.csv\")\n",
    "df"
   ]
  },
  {
   "cell_type": "code",
   "execution_count": 45,
   "metadata": {},
   "outputs": [],
   "source": [
    "df.drop([\"player_id\", \"timeModifiedLaneAgility\"], axis=1, inplace=True)\n",
    "\n",
    "# Convertir medidas a sistema métrico\n",
    "df[['height', 'wingspan', 'max_vertical', 'standing_vertical', 'reach_standing', 'lengthHandInches', 'widthHandInches']] *= 2.54\n",
    "df.columns = df.columns.str.replace('Inches', '')\n",
    "df[[\"weight\"]] *= 0.453592\n",
    "\n",
    "df = df.round(1)"
   ]
  },
  {
   "cell_type": "code",
   "execution_count": 46,
   "metadata": {},
   "outputs": [
    {
     "name": "stdout",
     "output_type": "stream",
     "text": [
      "player_name                      0\n",
      "yearDraft                      325\n",
      "yearCombine                      0\n",
      "numberPickOverall              325\n",
      "position                         1\n",
      "height                           0\n",
      "weight                           0\n",
      "wingspan                         0\n",
      "reach_standing                   0\n",
      "standing_vertical                5\n",
      "max_vertical                     4\n",
      "bench_reps                     135\n",
      "timeLaneAgility                 11\n",
      "timeThreeQuarterCourtSprint      9\n",
      "lengthHand                     449\n",
      "widthHand                      449\n",
      "body_fat_pct                    73\n",
      "drafted                          0\n",
      "dtype: int64\n"
     ]
    }
   ],
   "source": [
    "#bench_reps = repeticiones 185lbs(84 kg)\n",
    "df = df.dropna(thresh=df.shape[1] - 4)\n",
    "nan_counts = df.isna().sum()\n",
    "print(nan_counts)\n"
   ]
  },
  {
   "cell_type": "code",
   "execution_count": 47,
   "metadata": {},
   "outputs": [
    {
     "name": "stdout",
     "output_type": "stream",
     "text": [
      "<class 'pandas.core.frame.DataFrame'>\n",
      "Int64Index: 889 entries, 0 to 1115\n",
      "Data columns (total 18 columns):\n",
      " #   Column                       Non-Null Count  Dtype  \n",
      "---  ------                       --------------  -----  \n",
      " 0   player_name                  889 non-null    object \n",
      " 1   yearDraft                    564 non-null    float64\n",
      " 2   yearCombine                  889 non-null    int64  \n",
      " 3   numberPickOverall            564 non-null    float64\n",
      " 4   position                     888 non-null    object \n",
      " 5   height                       889 non-null    float64\n",
      " 6   weight                       889 non-null    float64\n",
      " 7   wingspan                     889 non-null    float64\n",
      " 8   reach_standing               889 non-null    float64\n",
      " 9   standing_vertical            884 non-null    float64\n",
      " 10  max_vertical                 885 non-null    float64\n",
      " 11  bench_reps                   754 non-null    float64\n",
      " 12  timeLaneAgility              878 non-null    float64\n",
      " 13  timeThreeQuarterCourtSprint  880 non-null    float64\n",
      " 14  lengthHand                   440 non-null    float64\n",
      " 15  widthHand                    440 non-null    float64\n",
      " 16  body_fat_pct                 816 non-null    float64\n",
      " 17  drafted                      889 non-null    bool   \n",
      "dtypes: bool(1), float64(14), int64(1), object(2)\n",
      "memory usage: 125.9+ KB\n"
     ]
    }
   ],
   "source": [
    "df.info()\n",
    "df.to_csv(\"DraftCombine.csv\", index=False)"
   ]
  },
  {
   "cell_type": "code",
   "execution_count": 48,
   "metadata": {},
   "outputs": [
    {
     "name": "stderr",
     "output_type": "stream",
     "text": [
      "/tmp/ipykernel_15045/247369203.py:2: FutureWarning:\n",
      "\n",
      "The default value of numeric_only in DataFrame.corr is deprecated. In a future version, it will default to False. Select only valid columns or specify the value of numeric_only to silence this warning.\n",
      "\n"
     ]
    },
    {
     "data": {
      "image/png": "[encoded data removed]",
      "text/plain": [
       "<Figure size 640x480 with 2 Axes>"
      ]
     },
     "metadata": {},
     "output_type": "display_data"
    },
    {
     "ename": "ValueError",
     "evalue": "Mime type rendering requires nbformat>=4.2.0 but it is not installed",
     "output_type": "error",
     "traceback": [
      "\u001b[0;31m---------------------------------------------------------------------------\u001b[0m",
      "\u001b[0;31mValueError\u001b[0m                                Traceback (most recent call last)",
      "File \u001b[0;32m/usr/lib/python3/dist-packages/IPython/core/formatters.py:922\u001b[0m, in \u001b[0;36mIPythonDisplayFormatter.__call__\u001b[0;34m(self, obj)\u001b[0m\n\u001b[1;32m    920\u001b[0m method \u001b[38;5;241m=\u001b[39m get_real_method(obj, \u001b[38;5;28mself\u001b[39m\u001b[38;5;241m.\u001b[39mprint_method)\n\u001b[1;32m    921\u001b[0m \u001b[38;5;28;01mif\u001b[39;00m method \u001b[38;5;129;01mis\u001b[39;00m \u001b[38;5;129;01mnot\u001b[39;00m \u001b[38;5;28;01mNone\u001b[39;00m:\n\u001b[0;32m--> 922\u001b[0m     \u001b[43mmethod\u001b[49m\u001b[43m(\u001b[49m\u001b[43m)\u001b[49m\n\u001b[1;32m    923\u001b[0m     \u001b[38;5;28;01mreturn\u001b[39;00m \u001b[38;5;28;01mTrue\u001b[39;00m\n",
      "File \u001b[0;32m~/.local/lib/python3.11/site-packages/plotly/basedatatypes.py:832\u001b[0m, in \u001b[0;36mBaseFigure._ipython_display_\u001b[0;34m(self)\u001b[0m\n\u001b[1;32m    829\u001b[0m \u001b[38;5;28;01mimport\u001b[39;00m \u001b[38;5;21;01mplotly\u001b[39;00m\u001b[38;5;21;01m.\u001b[39;00m\u001b[38;5;21;01mio\u001b[39;00m \u001b[38;5;28;01mas\u001b[39;00m \u001b[38;5;21;01mpio\u001b[39;00m\n\u001b[1;32m    831\u001b[0m \u001b[38;5;28;01mif\u001b[39;00m pio\u001b[38;5;241m.\u001b[39mrenderers\u001b[38;5;241m.\u001b[39mrender_on_display \u001b[38;5;129;01mand\u001b[39;00m pio\u001b[38;5;241m.\u001b[39mrenderers\u001b[38;5;241m.\u001b[39mdefault:\n\u001b[0;32m--> 832\u001b[0m     \u001b[43mpio\u001b[49m\u001b[38;5;241;43m.\u001b[39;49m\u001b[43mshow\u001b[49m\u001b[43m(\u001b[49m\u001b[38;5;28;43mself\u001b[39;49m\u001b[43m)\u001b[49m\n\u001b[1;32m    833\u001b[0m \u001b[38;5;28;01melse\u001b[39;00m:\n\u001b[1;32m    834\u001b[0m     \u001b[38;5;28mprint\u001b[39m(\u001b[38;5;28mrepr\u001b[39m(\u001b[38;5;28mself\u001b[39m))\n",
      "File \u001b[0;32m~/.local/lib/python3.11/site-packages/plotly/io/_renderers.py:394\u001b[0m, in \u001b[0;36mshow\u001b[0;34m(fig, renderer, validate, **kwargs)\u001b[0m\n\u001b[1;32m    389\u001b[0m         \u001b[38;5;28;01mraise\u001b[39;00m \u001b[38;5;167;01mValueError\u001b[39;00m(\n\u001b[1;32m    390\u001b[0m             \u001b[38;5;124m\"\u001b[39m\u001b[38;5;124mMime type rendering requires ipython but it is not installed\u001b[39m\u001b[38;5;124m\"\u001b[39m\n\u001b[1;32m    391\u001b[0m         )\n\u001b[1;32m    393\u001b[0m     \u001b[38;5;28;01mif\u001b[39;00m \u001b[38;5;129;01mnot\u001b[39;00m nbformat \u001b[38;5;129;01mor\u001b[39;00m Version(nbformat\u001b[38;5;241m.\u001b[39m__version__) \u001b[38;5;241m<\u001b[39m Version(\u001b[38;5;124m\"\u001b[39m\u001b[38;5;124m4.2.0\u001b[39m\u001b[38;5;124m\"\u001b[39m):\n\u001b[0;32m--> 394\u001b[0m         \u001b[38;5;28;01mraise\u001b[39;00m \u001b[38;5;167;01mValueError\u001b[39;00m(\n\u001b[1;32m    395\u001b[0m             \u001b[38;5;124m\"\u001b[39m\u001b[38;5;124mMime type rendering requires nbformat>=4.2.0 but it is not installed\u001b[39m\u001b[38;5;124m\"\u001b[39m\n\u001b[1;32m    396\u001b[0m         )\n\u001b[1;32m    398\u001b[0m     ipython_display\u001b[38;5;241m.\u001b[39mdisplay(bundle, raw\u001b[38;5;241m=\u001b[39m\u001b[38;5;28;01mTrue\u001b[39;00m)\n\u001b[1;32m    400\u001b[0m \u001b[38;5;66;03m# external renderers\u001b[39;00m\n",
      "\u001b[0;31mValueError\u001b[0m: Mime type rendering requires nbformat>=4.2.0 but it is not installed"
     ]
    },
    {
     "data": {
      "application/vnd.plotly.v1+json": {
       "config": {
        "plotlyServerURL": "https://plot.ly"
       },
       "data": [
        {
         "name": "PG",
         "type": "box",
         "y": [
          186.7,
          179.1,
          184.2,
          181.6,
          174.6,
          185.4,
          185.4,
          179.7,
          189.2,
          178.4,
          189.2,
          186.1,
          186.7,
          191.1,
          185.4,
          188,
          177.8,
          189.9,
          177.2,
          188,
          174.6,
          175.3,
          188,
          184.2,
          177.2,
          185.4,
          181.6,
          186.7,
          181.6,
          189.2,
          191.8,
          181,
          180.3,
          193.7,
          186.7,
          185.4,
          186.7,
          182.9,
          190.5,
          191.1,
          182.9,
          182.2,
          189.2,
          185.4,
          182.9,
          190.5,
          176.5,
          183.5,
          186.7,
          182.2,
          185.4,
          180.3,
          182.9,
          188,
          184.2,
          185.4,
          177.8,
          185.4,
          189.9,
          182.2,
          188,
          186.7,
          188.6,
          175.3,
          189.2,
          185.4,
          184.8,
          186.1,
          189.2,
          181,
          186.1,
          194.9,
          188,
          183.5,
          183.5,
          179.1,
          185.4,
          184.8,
          190.5,
          187.3,
          181.6,
          184.8,
          193,
          181.6,
          182.2,
          176.5,
          193,
          194.3,
          188.6,
          188,
          179.7,
          191.1,
          188,
          180.3,
          177.2,
          187.3,
          185.4,
          180.3,
          183.5,
          181.6,
          173.4,
          172.1,
          184.2,
          178.4,
          185.4,
          176.5,
          179.1,
          174.6,
          183.5,
          189.9,
          182.2,
          188.6,
          183.5,
          177.2,
          182.9,
          193.7,
          194.9,
          180.3,
          181,
          183.5,
          186.1,
          185.4,
          181,
          186.1,
          183.5,
          182.9,
          183.5,
          189.2,
          184.2,
          185.4,
          184.8,
          179.7,
          183.5,
          184.2,
          175.3,
          191.1
         ]
        },
        {
         "name": "PG-SG",
         "type": "box",
         "y": [
          187.3,
          191.1,
          196.8,
          182.2,
          189.9,
          186.7,
          184.2,
          184.8,
          188,
          185.4,
          191.1,
          181.6,
          187.3,
          198.8,
          190.5,
          191.1,
          183.5,
          182.2,
          191.1,
          184.8,
          193.7,
          185.4,
          186.1,
          191.1,
          188.6,
          196.2,
          184.2,
          184.2,
          194.9,
          189.9,
          188,
          186.7,
          188,
          186.1,
          182.2,
          184.8,
          196.2,
          186.7
         ]
        },
        {
         "name": "SG-PG",
         "type": "box",
         "y": [
          184.8,
          190.5,
          188,
          188.6,
          184.8,
          190.5,
          188,
          186.1,
          191.1,
          191.8,
          192.4,
          193,
          196.2,
          187.3,
          189.2,
          192.4,
          188.6,
          189.2,
          188.6,
          191.8,
          191.8,
          191.1,
          192.4,
          182.2,
          197.5,
          188
         ]
        },
        {
         "name": "SG",
         "type": "box",
         "y": [
          191.1,
          194.9,
          197.5,
          186.7,
          188,
          191.8,
          190.5,
          196.2,
          191.8,
          193.7,
          186.7,
          191.8,
          196.2,
          192.4,
          193.7,
          190.5,
          188.6,
          188,
          193,
          189.2,
          190.5,
          193.7,
          191.8,
          190.5,
          193,
          193,
          191.1,
          194.3,
          193,
          194.3,
          188,
          192.4,
          192.4,
          193,
          188,
          191.8,
          194.9,
          191.8,
          190.5,
          195.6,
          195.6,
          192.4,
          190.5,
          188,
          191.1,
          190.5,
          193.7,
          191.8,
          195.6,
          193.7,
          193.7,
          196.8,
          189.9,
          188.6,
          193,
          191.1,
          194.3,
          194.3,
          193,
          190.5,
          193.7,
          196.2,
          194.3,
          194.9,
          187.3,
          196.2,
          194.3,
          189.2,
          195.6,
          189.9,
          193.7,
          196.2,
          186.1,
          190.5,
          194.3,
          189.2,
          189.9,
          196.2,
          185.4,
          191.8,
          193,
          190.5,
          186.7,
          191.8,
          189.9,
          195.6,
          194.3,
          189.2,
          189.9,
          193.7,
          195.6,
          189.9,
          192.4,
          189.2,
          191.8,
          193,
          186.7,
          188.6,
          194.3,
          190.5,
          190.5,
          193.7,
          194.3,
          200.7,
          190.5,
          193,
          190.5,
          190.5,
          195.6,
          191.1,
          195.6,
          184.8,
          193,
          189.9,
          193,
          191.8,
          190.5,
          189.9,
          194.9,
          190.5,
          188.6,
          195.6,
          191.1
         ]
        },
        {
         "name": "SG-SF",
         "type": "box",
         "y": [
          196.8,
          188,
          196.2,
          199.4,
          195.6,
          196.8,
          195.6,
          197.5,
          201.3,
          193.7,
          194.3,
          195.6,
          193,
          199.4,
          196.8,
          194.9,
          194.9,
          198.1,
          193,
          194.3,
          193.7,
          194.9,
          196.8,
          193.7,
          194.3,
          195.6,
          194.9,
          197.5,
          196.2,
          196.8,
          195.6,
          200.7,
          192.4,
          195.6,
          194.9,
          194.3,
          196.2,
          191.8,
          198.1,
          195.6,
          193,
          199.4,
          193,
          196.8,
          194.3,
          189.9,
          198.8,
          197.5,
          196.8,
          193,
          198.8,
          189.2,
          200.7,
          198.8,
          199.4,
          192.4,
          192.4
         ]
        },
        {
         "name": "SF-SG",
         "type": "box",
         "y": [
          200.7,
          193,
          192.4,
          196.2,
          195.6,
          196.2,
          197.5,
          195.6,
          198.1,
          194.3,
          194.9,
          197.5,
          194.9,
          194.9,
          198.1,
          194.9,
          198.1,
          196.2,
          197.5,
          194.3,
          198.1,
          197.5,
          196.2,
          194.9,
          189.9,
          196.2,
          198.1,
          197.5,
          196.8,
          194.9,
          194.9,
          198.8,
          193,
          194.3
         ]
        },
        {
         "name": "SF",
         "type": "box",
         "y": [
          205.1,
          198.1,
          201.3,
          201.9,
          198.1,
          201.3,
          194.9,
          200,
          198.1,
          202.6,
          200.7,
          198.8,
          205.7,
          196.2,
          199.4,
          198.1,
          200,
          198.1,
          201.9,
          196.8,
          198.8,
          198.8,
          198.1,
          197.5,
          206.4,
          202.6,
          200.7,
          200.7,
          198.8,
          197.5,
          196.2,
          198.1,
          197.5,
          200,
          200.7,
          203.8,
          194.9,
          193,
          200,
          198.1,
          200,
          202.6,
          202.6,
          203.2,
          196.8,
          201.3,
          192.4,
          197.5,
          199.4,
          193,
          200,
          199.4,
          203.2,
          200,
          199.4,
          198.8,
          201.3,
          199.4,
          196.2,
          200,
          198.8,
          197.5,
          194.3,
          197.5,
          201.3,
          201.3,
          203.8,
          198.1,
          203.2,
          196.8,
          201.3,
          206.4,
          199.4,
          196.2,
          199.4,
          197.5,
          198.8,
          201.3,
          201.3,
          200.7,
          201.9,
          201.9,
          198.8,
          202.6,
          198.1,
          200.7,
          191.8,
          196.8,
          194.3,
          203.2,
          199.4,
          198.8,
          202.6,
          194.9,
          198.1,
          205.1,
          197.5,
          196.8,
          197.5,
          201.9,
          195.6,
          200,
          200.7,
          199.4,
          201.3,
          196.8,
          201.3
         ]
        },
        {
         "name": "SF-PF",
         "type": "box",
         "y": [
          198.1,
          200.7,
          199.4,
          203.8,
          203.8,
          199.4,
          201.9,
          207.6,
          197.5,
          198.8,
          200,
          203.8,
          197.5,
          201.9,
          201.3,
          199.4,
          205.7,
          204.5,
          200.7,
          206.4,
          194.3,
          198.1,
          198.8,
          200,
          200.7,
          200.7,
          201.9,
          198.8,
          196.8,
          198.1,
          196.2,
          203.2
         ]
        },
        {
         "name": "PF-SF",
         "type": "box",
         "y": [
          198.1,
          200.7,
          198.1,
          203.8,
          205.7,
          206.4,
          208.9,
          205.7,
          207,
          203.8,
          203.2,
          201.3,
          199.4,
          197.5,
          205.7,
          204.5,
          201.9,
          203.8,
          201.3,
          199.4,
          200.7,
          207,
          204.5,
          201.9,
          203.8,
          203.2,
          200.7,
          205.1,
          201.3,
          205.7,
          204.5,
          203.2
         ]
        },
        {
         "name": "PF",
         "type": "box",
         "y": [
          208.9,
          198.8,
          200.7,
          201.9,
          198.1,
          206.4,
          198.1,
          198.1,
          205.1,
          201.3,
          201.3,
          199.4,
          196.8,
          205.7,
          200.7,
          204.5,
          201.3,
          216.5,
          202.6,
          205.1,
          200.7,
          203.8,
          208.3,
          208.3,
          204.5,
          203.8,
          202.6,
          200,
          198.8,
          205.1,
          201.9,
          204.5,
          204.5,
          198.8,
          199.4,
          204.5,
          208.9,
          203.8,
          201.3,
          201.3,
          200.7,
          204.5,
          200.7,
          200,
          194.9,
          205.7,
          204.5,
          205.1,
          198.1,
          200.7,
          205.7,
          205.1,
          198.1,
          201.3,
          200.7,
          203.8,
          207,
          201.3,
          214,
          204.5,
          202.6,
          201.3,
          200,
          203.2,
          203.2,
          200,
          205.1,
          205.1,
          203.2,
          198.1,
          205.7,
          201.3,
          205.1,
          203.2,
          201.9,
          200.7,
          201.9,
          200.7,
          203.2,
          203.8,
          201.3,
          201.3,
          206.4,
          198.8,
          205.7,
          201.9,
          199.4,
          198.8,
          201.3,
          203.8,
          201.9,
          212.1,
          203.8,
          204.5,
          203.2,
          205.1,
          205.1,
          207,
          203.8,
          196.8,
          203.8,
          200.7,
          198.8,
          198.1,
          207.6,
          201.2,
          196.8,
          201.9,
          207,
          200,
          201.3,
          205.1,
          204.5,
          201.3,
          208.3,
          206.4,
          201.3,
          204.5,
          201.9,
          203.2,
          205.1,
          203.8,
          207,
          202.6,
          210.2,
          199.4,
          205.1,
          201.3,
          208.3,
          212.7,
          202.6,
          203.2,
          207,
          205.1,
          195.6,
          208.3,
          203.2,
          203.8,
          202.6,
          200.7,
          200.7,
          200.7,
          203.2,
          198.1,
          202.6,
          196.2,
          195.6,
          204.5,
          203.8,
          205.1,
          206.4,
          205.1,
          203.2,
          201.3,
          201.9,
          205.7,
          205.7,
          205.7,
          205.7,
          206.4,
          200
         ]
        },
        {
         "name": "PF-C",
         "type": "box",
         "y": [
          205.7,
          203.8,
          209.6,
          207,
          205.7,
          198.8,
          207.6,
          207,
          205.1,
          202.6,
          203.2,
          204.5,
          210.2,
          207,
          206.4,
          208.9,
          204.5,
          209.6,
          203.2,
          216.5,
          210.8,
          208.3,
          204.5,
          203.2,
          203.8,
          212.1,
          207.6,
          201.9,
          205.7,
          202.6,
          206.4,
          205.7,
          201.3,
          199.4,
          208.3,
          203.2,
          204.5,
          202.6,
          204.5,
          203.8,
          203.8,
          204.5,
          206.4,
          201.9,
          201.9,
          202.6,
          204.5,
          211.5,
          200.7,
          207.6,
          208.3
         ]
        },
        {
         "name": "C-PF",
         "type": "box",
         "y": [
          205.1,
          210.8,
          208.3,
          207,
          208.3,
          209.6,
          208.3,
          205.7,
          204.5,
          208.9,
          207,
          210.8,
          208.9,
          207.6,
          203.8,
          206.4,
          207.6,
          208.3,
          208.9,
          207,
          205.1,
          207,
          207,
          201.3,
          207,
          200.7,
          204.5,
          215.3,
          203.8,
          205.1,
          204.5,
          201.3,
          208.3,
          210.8,
          203.8,
          208.9,
          211.5,
          208.9,
          207,
          207,
          208.9
         ]
        },
        {
         "name": "C",
         "type": "box",
         "y": [
          212.1,
          204.5,
          199.4,
          210.8,
          205.7,
          215.3,
          212.1,
          212.7,
          208.9,
          207.6,
          210.2,
          209.6,
          209.6,
          208.3,
          204.5,
          204.5,
          210.2,
          208.3,
          207.6,
          205.7,
          215.9,
          205.7,
          205.1,
          205.7,
          208.3,
          203.8,
          208.3,
          203.2,
          217.8,
          200,
          209.6,
          206.4,
          214.6,
          208.3,
          206.4,
          207,
          211.5,
          200.7,
          207.6,
          210.2,
          208.3,
          212.7,
          209.6,
          213.4,
          205.1,
          212.7,
          211.5,
          210.2,
          208.9,
          205.1
         ]
        }
       ],
       "layout": {
        "template": {
         "data": {
          "bar": [
           {
            "error_x": {
             "color": "#2a3f5f"
            },
            "error_y": {
             "color": "#2a3f5f"
            },
            "marker": {
             "line": {
              "color": "#E5ECF6",
              "width": 0.5
             },
             "pattern": {
              "fillmode": "overlay",
              "size": 10,
              "solidity": 0.2
             }
            },
            "type": "bar"
           }
          ],
          "barpolar": [
           {
            "marker": {
             "line": {
              "color": "#E5ECF6",
              "width": 0.5
             },
             "pattern": {
              "fillmode": "overlay",
              "size": 10,
              "solidity": 0.2
             }
            },
            "type": "barpolar"
           }
          ],
          "carpet": [
           {
            "aaxis": {
             "endlinecolor": "#2a3f5f",
             "gridcolor": "white",
             "linecolor": "white",
             "minorgridcolor": "white",
             "startlinecolor": "#2a3f5f"
            },
            "baxis": {
             "endlinecolor": "#2a3f5f",
             "gridcolor": "white",
             "linecolor": "white",
             "minorgridcolor": "white",
             "startlinecolor": "#2a3f5f"
            },
            "type": "carpet"
           }
          ],
          "choropleth": [
           {
            "colorbar": {
             "outlinewidth": 0,
             "ticks": ""
            },
            "type": "choropleth"
           }
          ],
          "contour": [
           {
            "colorbar": {
             "outlinewidth": 0,
             "ticks": ""
            },
            "colorscale": [
             [
              0,
              "#0d0887"
             ],
             [
              0.1111111111111111,
              "#46039f"
             ],
             [
              0.2222222222222222,
              "#7201a8"
             ],
             [
              0.3333333333333333,
              "#9c179e"
             ],
             [
              0.4444444444444444,
              "#bd3786"
             ],
             [
              0.5555555555555556,
              "#d8576b"
             ],
             [
              0.6666666666666666,
              "#ed7953"
             ],
             [
              0.7777777777777778,
              "#fb9f3a"
             ],
             [
              0.8888888888888888,
              "#fdca26"
             ],
             [
              1,
              "#f0f921"
             ]
            ],
            "type": "contour"
           }
          ],
          "contourcarpet": [
           {
            "colorbar": {
             "outlinewidth": 0,
             "ticks": ""
            },
            "type": "contourcarpet"
           }
          ],
          "heatmap": [
           {
            "colorbar": {
             "outlinewidth": 0,
             "ticks": ""
            },
            "colorscale": [
             [
              0,
              "#0d0887"
             ],
             [
              0.1111111111111111,
              "#46039f"
             ],
             [
              0.2222222222222222,
              "#7201a8"
             ],
             [
              0.3333333333333333,
              "#9c179e"
             ],
             [
              0.4444444444444444,
              "#bd3786"
             ],
             [
              0.5555555555555556,
              "#d8576b"
             ],
             [
              0.6666666666666666,
              "#ed7953"
             ],
             [
              0.7777777777777778,
              "#fb9f3a"
             ],
             [
              0.8888888888888888,
              "#fdca26"
             ],
             [
              1,
              "#f0f921"
             ]
            ],
            "type": "heatmap"
           }
          ],
          "heatmapgl": [
           {
            "colorbar": {
             "outlinewidth": 0,
             "ticks": ""
            },
            "colorscale": [
             [
              0,
              "#0d0887"
             ],
             [
              0.1111111111111111,
              "#46039f"
             ],
             [
              0.2222222222222222,
              "#7201a8"
             ],
             [
              0.3333333333333333,
              "#9c179e"
             ],
             [
              0.4444444444444444,
              "#bd3786"
             ],
             [
              0.5555555555555556,
              "#d8576b"
             ],
             [
              0.6666666666666666,
              "#ed7953"
             ],
             [
              0.7777777777777778,
              "#fb9f3a"
             ],
             [
              0.8888888888888888,
              "#fdca26"
             ],
             [
              1,
              "#f0f921"
             ]
            ],
            "type": "heatmapgl"
           }
          ],
          "histogram": [
           {
            "marker": {
             "pattern": {
              "fillmode": "overlay",
              "size": 10,
              "solidity": 0.2
             }
            },
            "type": "histogram"
           }
          ],
          "histogram2d": [
           {
            "colorbar": {
             "outlinewidth": 0,
             "ticks": ""
            },
            "colorscale": [
             [
              0,
              "#0d0887"
             ],
             [
              0.1111111111111111,
              "#46039f"
             ],
             [
              0.2222222222222222,
              "#7201a8"
             ],
             [
              0.3333333333333333,
              "#9c179e"
             ],
             [
              0.4444444444444444,
              "#bd3786"
             ],
             [
              0.5555555555555556,
              "#d8576b"
             ],
             [
              0.6666666666666666,
              "#ed7953"
             ],
             [
              0.7777777777777778,
              "#fb9f3a"
             ],
             [
              0.8888888888888888,
              "#fdca26"
             ],
             [
              1,
              "#f0f921"
             ]
            ],
            "type": "histogram2d"
           }
          ],
          "histogram2dcontour": [
           {
            "colorbar": {
             "outlinewidth": 0,
             "ticks": ""
            },
            "colorscale": [
             [
              0,
              "#0d0887"
             ],
             [
              0.1111111111111111,
              "#46039f"
             ],
             [
              0.2222222222222222,
              "#7201a8"
             ],
             [
              0.3333333333333333,
              "#9c179e"
             ],
             [
              0.4444444444444444,
              "#bd3786"
             ],
             [
              0.5555555555555556,
              "#d8576b"
             ],
             [
              0.6666666666666666,
              "#ed7953"
             ],
             [
              0.7777777777777778,
              "#fb9f3a"
             ],
             [
              0.8888888888888888,
              "#fdca26"
             ],
             [
              1,
              "#f0f921"
             ]
            ],
            "type": "histogram2dcontour"
           }
          ],
          "mesh3d": [
           {
            "colorbar": {
             "outlinewidth": 0,
             "ticks": ""
            },
            "type": "mesh3d"
           }
          ],
          "parcoords": [
           {
            "line": {
             "colorbar": {
              "outlinewidth": 0,
              "ticks": ""
             }
            },
            "type": "parcoords"
           }
          ],
          "pie": [
           {
            "automargin": true,
            "type": "pie"
           }
          ],
          "scatter": [
           {
            "fillpattern": {
             "fillmode": "overlay",
             "size": 10,
             "solidity": 0.2
            },
            "type": "scatter"
           }
          ],
          "scatter3d": [
           {
            "line": {
             "colorbar": {
              "outlinewidth": 0,
              "ticks": ""
             }
            },
            "marker": {
             "colorbar": {
              "outlinewidth": 0,
              "ticks": ""
             }
            },
            "type": "scatter3d"
           }
          ],
          "scattercarpet": [
           {
            "marker": {
             "colorbar": {
              "outlinewidth": 0,
              "ticks": ""
             }
            },
            "type": "scattercarpet"
           }
          ],
          "scattergeo": [
           {
            "marker": {
             "colorbar": {
              "outlinewidth": 0,
              "ticks": ""
             }
            },
            "type": "scattergeo"
           }
          ],
          "scattergl": [
           {
            "marker": {
             "colorbar": {
              "outlinewidth": 0,
              "ticks": ""
             }
            },
            "type": "scattergl"
           }
          ],
          "scattermapbox": [
           {
            "marker": {
             "colorbar": {
              "outlinewidth": 0,
              "ticks": ""
             }
            },
            "type": "scattermapbox"
           }
          ],
          "scatterpolar": [
           {
            "marker": {
             "colorbar": {
              "outlinewidth": 0,
              "ticks": ""
             }
            },
            "type": "scatterpolar"
           }
          ],
          "scatterpolargl": [
           {
            "marker": {
             "colorbar": {
              "outlinewidth": 0,
              "ticks": ""
             }
            },
            "type": "scatterpolargl"
           }
          ],
          "scatterternary": [
           {
            "marker": {
             "colorbar": {
              "outlinewidth": 0,
              "ticks": ""
             }
            },
            "type": "scatterternary"
           }
          ],
          "surface": [
           {
            "colorbar": {
             "outlinewidth": 0,
             "ticks": ""
            },
            "colorscale": [
             [
              0,
              "#0d0887"
             ],
             [
              0.1111111111111111,
              "#46039f"
             ],
             [
              0.2222222222222222,
              "#7201a8"
             ],
             [
              0.3333333333333333,
              "#9c179e"
             ],
             [
              0.4444444444444444,
              "#bd3786"
             ],
             [
              0.5555555555555556,
              "#d8576b"
             ],
             [
              0.6666666666666666,
              "#ed7953"
             ],
             [
              0.7777777777777778,
              "#fb9f3a"
             ],
             [
              0.8888888888888888,
              "#fdca26"
             ],
             [
              1,
              "#f0f921"
             ]
            ],
            "type": "surface"
           }
          ],
          "table": [
           {
            "cells": {
             "fill": {
              "color": "#EBF0F8"
             },
             "line": {
              "color": "white"
             }
            },
            "header": {
             "fill": {
              "color": "#C8D4E3"
             },
             "line": {
              "color": "white"
             }
            },
            "type": "table"
           }
          ]
         },
         "layout": {
          "annotationdefaults": {
           "arrowcolor": "#2a3f5f",
           "arrowhead": 0,
           "arrowwidth": 1
          },
          "autotypenumbers": "strict",
          "coloraxis": {
           "colorbar": {
            "outlinewidth": 0,
            "ticks": ""
           }
          },
          "colorscale": {
           "diverging": [
            [
             0,
             "#8e0152"
            ],
            [
             0.1,
             "#c51b7d"
            ],
            [
             0.2,
             "#de77ae"
            ],
            [
             0.3,
             "#f1b6da"
            ],
            [
             0.4,
             "#fde0ef"
            ],
            [
             0.5,
             "#f7f7f7"
            ],
            [
             0.6,
             "#e6f5d0"
            ],
            [
             0.7,
             "#b8e186"
            ],
            [
             0.8,
             "#7fbc41"
            ],
            [
             0.9,
             "#4d9221"
            ],
            [
             1,
             "#276419"
            ]
           ],
           "sequential": [
            [
             0,
             "#0d0887"
            ],
            [
             0.1111111111111111,
             "#46039f"
            ],
            [
             0.2222222222222222,
             "#7201a8"
            ],
            [
             0.3333333333333333,
             "#9c179e"
            ],
            [
             0.4444444444444444,
             "#bd3786"
            ],
            [
             0.5555555555555556,
             "#d8576b"
            ],
            [
             0.6666666666666666,
             "#ed7953"
            ],
            [
             0.7777777777777778,
             "#fb9f3a"
            ],
            [
             0.8888888888888888,
             "#fdca26"
            ],
            [
             1,
             "#f0f921"
            ]
           ],
           "sequentialminus": [
            [
             0,
             "#0d0887"
            ],
            [
             0.1111111111111111,
             "#46039f"
            ],
            [
             0.2222222222222222,
             "#7201a8"
            ],
            [
             0.3333333333333333,
             "#9c179e"
            ],
            [
             0.4444444444444444,
             "#bd3786"
            ],
            [
             0.5555555555555556,
             "#d8576b"
            ],
            [
             0.6666666666666666,
             "#ed7953"
            ],
            [
             0.7777777777777778,
             "#fb9f3a"
            ],
            [
             0.8888888888888888,
             "#fdca26"
            ],
            [
             1,
             "#f0f921"
            ]
           ]
          },
          "colorway": [
           "#636efa",
           "#EF553B",
           "#00cc96",
           "#ab63fa",
           "#FFA15A",
           "#19d3f3",
           "#FF6692",
           "#B6E880",
           "#FF97FF",
           "#FECB52"
          ],
          "font": {
           "color": "#2a3f5f"
          },
          "geo": {
           "bgcolor": "white",
           "lakecolor": "white",
           "landcolor": "#E5ECF6",
           "showlakes": true,
           "showland": true,
           "subunitcolor": "white"
          },
          "hoverlabel": {
           "align": "left"
          },
          "hovermode": "closest",
          "mapbox": {
           "style": "light"
          },
          "paper_bgcolor": "white",
          "plot_bgcolor": "#E5ECF6",
          "polar": {
           "angularaxis": {
            "gridcolor": "white",
            "linecolor": "white",
            "ticks": ""
           },
           "bgcolor": "#E5ECF6",
           "radialaxis": {
            "gridcolor": "white",
            "linecolor": "white",
            "ticks": ""
           }
          },
          "scene": {
           "xaxis": {
            "backgroundcolor": "#E5ECF6",
            "gridcolor": "white",
            "gridwidth": 2,
            "linecolor": "white",
            "showbackground": true,
            "ticks": "",
            "zerolinecolor": "white"
           },
           "yaxis": {
            "backgroundcolor": "#E5ECF6",
            "gridcolor": "white",
            "gridwidth": 2,
            "linecolor": "white",
            "showbackground": true,
            "ticks": "",
            "zerolinecolor": "white"
           },
           "zaxis": {
            "backgroundcolor": "#E5ECF6",
            "gridcolor": "white",
            "gridwidth": 2,
            "linecolor": "white",
            "showbackground": true,
            "ticks": "",
            "zerolinecolor": "white"
           }
          },
          "shapedefaults": {
           "line": {
            "color": "#2a3f5f"
           }
          },
          "ternary": {
           "aaxis": {
            "gridcolor": "white",
            "linecolor": "white",
            "ticks": ""
           },
           "baxis": {
            "gridcolor": "white",
            "linecolor": "white",
            "ticks": ""
           },
           "bgcolor": "#E5ECF6",
           "caxis": {
            "gridcolor": "white",
            "linecolor": "white",
            "ticks": ""
           }
          },
          "title": {
           "x": 0.05
          },
          "xaxis": {
           "automargin": true,
           "gridcolor": "white",
           "linecolor": "white",
           "ticks": "",
           "title": {
            "standoff": 15
           },
           "zerolinecolor": "white",
           "zerolinewidth": 2
          },
          "yaxis": {
           "automargin": true,
           "gridcolor": "white",
           "linecolor": "white",
           "ticks": "",
           "title": {
            "standoff": 15
           },
           "zerolinecolor": "white",
           "zerolinewidth": 2
          }
         }
        },
        "title": {
         "text": "Distribución de Altura por Posición"
        }
       }
      },
      "text/html": [
       "<div>                        <script type=\"text/javascript\">window.PlotlyConfig = {MathJaxConfig: 'local'};</script>\n",
       "        <script charset=\"utf-8\" src=\"https://cdn.plot.ly/plotly-2.32.0.min.js\"></script>                <div id=\"566f9838-805e-4d75-92b2-b988dc5f21a2\" class=\"plotly-graph-div\" style=\"height:100%; width:100%;\"></div>            <script type=\"text/javascript\">                                    window.PLOTLYENV=window.PLOTLYENV || {};                                    if (document.getElementById(\"566f9838-805e-4d75-92b2-b988dc5f21a2\")) {                    Plotly.newPlot(                        \"566f9838-805e-4d75-92b2-b988dc5f21a2\",                        [{\"name\":\"PG\",\"y\":[186.7,179.1,184.2,181.6,174.6,185.4,185.4,179.7,189.2,178.4,189.2,186.1,186.7,191.1,185.4,188.0,177.8,189.9,177.2,188.0,174.6,175.3,188.0,184.2,177.2,185.4,181.6,186.7,181.6,189.2,191.8,181.0,180.3,193.7,186.7,185.4,186.7,182.9,190.5,191.1,182.9,182.2,189.2,185.4,182.9,190.5,176.5,183.5,186.7,182.2,185.4,180.3,182.9,188.0,184.2,185.4,177.8,185.4,189.9,182.2,188.0,186.7,188.6,175.3,189.2,185.4,184.8,186.1,189.2,181.0,186.1,194.9,188.0,183.5,183.5,179.1,185.4,184.8,190.5,187.3,181.6,184.8,193.0,181.6,182.2,176.5,193.0,194.3,188.6,188.0,179.7,191.1,188.0,180.3,177.2,187.3,185.4,180.3,183.5,181.6,173.4,172.1,184.2,178.4,185.4,176.5,179.1,174.6,183.5,189.9,182.2,188.6,183.5,177.2,182.9,193.7,194.9,180.3,181.0,183.5,186.1,185.4,181.0,186.1,183.5,182.9,183.5,189.2,184.2,185.4,184.8,179.7,183.5,184.2,175.3,191.1],\"type\":\"box\"},{\"name\":\"PG-SG\",\"y\":[187.3,191.1,196.8,182.2,189.9,186.7,184.2,184.8,188.0,185.4,191.1,181.6,187.3,198.8,190.5,191.1,183.5,182.2,191.1,184.8,193.7,185.4,186.1,191.1,188.6,196.2,184.2,184.2,194.9,189.9,188.0,186.7,188.0,186.1,182.2,184.8,196.2,186.7],\"type\":\"box\"},{\"name\":\"SG-PG\",\"y\":[184.8,190.5,188.0,188.6,184.8,190.5,188.0,186.1,191.1,191.8,192.4,193.0,196.2,187.3,189.2,192.4,188.6,189.2,188.6,191.8,191.8,191.1,192.4,182.2,197.5,188.0],\"type\":\"box\"},{\"name\":\"SG\",\"y\":[191.1,194.9,197.5,186.7,188.0,191.8,190.5,196.2,191.8,193.7,186.7,191.8,196.2,192.4,193.7,190.5,188.6,188.0,193.0,189.2,190.5,193.7,191.8,190.5,193.0,193.0,191.1,194.3,193.0,194.3,188.0,192.4,192.4,193.0,188.0,191.8,194.9,191.8,190.5,195.6,195.6,192.4,190.5,188.0,191.1,190.5,193.7,191.8,195.6,193.7,193.7,196.8,189.9,188.6,193.0,191.1,194.3,194.3,193.0,190.5,193.7,196.2,194.3,194.9,187.3,196.2,194.3,189.2,195.6,189.9,193.7,196.2,186.1,190.5,194.3,189.2,189.9,196.2,185.4,191.8,193.0,190.5,186.7,191.8,189.9,195.6,194.3,189.2,189.9,193.7,195.6,189.9,192.4,189.2,191.8,193.0,186.7,188.6,194.3,190.5,190.5,193.7,194.3,200.7,190.5,193.0,190.5,190.5,195.6,191.1,195.6,184.8,193.0,189.9,193.0,191.8,190.5,189.9,194.9,190.5,188.6,195.6,191.1],\"type\":\"box\"},{\"name\":\"SG-SF\",\"y\":[196.8,188.0,196.2,199.4,195.6,196.8,195.6,197.5,201.3,193.7,194.3,195.6,193.0,199.4,196.8,194.9,194.9,198.1,193.0,194.3,193.7,194.9,196.8,193.7,194.3,195.6,194.9,197.5,196.2,196.8,195.6,200.7,192.4,195.6,194.9,194.3,196.2,191.8,198.1,195.6,193.0,199.4,193.0,196.8,194.3,189.9,198.8,197.5,196.8,193.0,198.8,189.2,200.7,198.8,199.4,192.4,192.4],\"type\":\"box\"},{\"name\":\"SF-SG\",\"y\":[200.7,193.0,192.4,196.2,195.6,196.2,197.5,195.6,198.1,194.3,194.9,197.5,194.9,194.9,198.1,194.9,198.1,196.2,197.5,194.3,198.1,197.5,196.2,194.9,189.9,196.2,198.1,197.5,196.8,194.9,194.9,198.8,193.0,194.3],\"type\":\"box\"},{\"name\":\"SF\",\"y\":[205.1,198.1,201.3,201.9,198.1,201.3,194.9,200.0,198.1,202.6,200.7,198.8,205.7,196.2,199.4,198.1,200.0,198.1,201.9,196.8,198.8,198.8,198.1,197.5,206.4,202.6,200.7,200.7,198.8,197.5,196.2,198.1,197.5,200.0,200.7,203.8,194.9,193.0,200.0,198.1,200.0,202.6,202.6,203.2,196.8,201.3,192.4,197.5,199.4,193.0,200.0,199.4,203.2,200.0,199.4,198.8,201.3,199.4,196.2,200.0,198.8,197.5,194.3,197.5,201.3,201.3,203.8,198.1,203.2,196.8,201.3,206.4,199.4,196.2,199.4,197.5,198.8,201.3,201.3,200.7,201.9,201.9,198.8,202.6,198.1,200.7,191.8,196.8,194.3,203.2,199.4,198.8,202.6,194.9,198.1,205.1,197.5,196.8,197.5,201.9,195.6,200.0,200.7,199.4,201.3,196.8,201.3],\"type\":\"box\"},{\"name\":\"SF-PF\",\"y\":[198.1,200.7,199.4,203.8,203.8,199.4,201.9,207.6,197.5,198.8,200.0,203.8,197.5,201.9,201.3,199.4,205.7,204.5,200.7,206.4,194.3,198.1,198.8,200.0,200.7,200.7,201.9,198.8,196.8,198.1,196.2,203.2],\"type\":\"box\"},{\"name\":\"PF-SF\",\"y\":[198.1,200.7,198.1,203.8,205.7,206.4,208.9,205.7,207.0,203.8,203.2,201.3,199.4,197.5,205.7,204.5,201.9,203.8,201.3,199.4,200.7,207.0,204.5,201.9,203.8,203.2,200.7,205.1,201.3,205.7,204.5,203.2],\"type\":\"box\"},{\"name\":\"PF\",\"y\":[208.9,198.8,200.7,201.9,198.1,206.4,198.1,198.1,205.1,201.3,201.3,199.4,196.8,205.7,200.7,204.5,201.3,216.5,202.6,205.1,200.7,203.8,208.3,208.3,204.5,203.8,202.6,200.0,198.8,205.1,201.9,204.5,204.5,198.8,199.4,204.5,208.9,203.8,201.3,201.3,200.7,204.5,200.7,200.0,194.9,205.7,204.5,205.1,198.1,200.7,205.7,205.1,198.1,201.3,200.7,203.8,207.0,201.3,214.0,204.5,202.6,201.3,200.0,203.2,203.2,200.0,205.1,205.1,203.2,198.1,205.7,201.3,205.1,203.2,201.9,200.7,201.9,200.7,203.2,203.8,201.3,201.3,206.4,198.8,205.7,201.9,199.4,198.8,201.3,203.8,201.9,212.1,203.8,204.5,203.2,205.1,205.1,207.0,203.8,196.8,203.8,200.7,198.8,198.1,207.6,201.2,196.8,201.9,207.0,200.0,201.3,205.1,204.5,201.3,208.3,206.4,201.3,204.5,201.9,203.2,205.1,203.8,207.0,202.6,210.2,199.4,205.1,201.3,208.3,212.7,202.6,203.2,207.0,205.1,195.6,208.3,203.2,203.8,202.6,200.7,200.7,200.7,203.2,198.1,202.6,196.2,195.6,204.5,203.8,205.1,206.4,205.1,203.2,201.3,201.9,205.7,205.7,205.7,205.7,206.4,200.0],\"type\":\"box\"},{\"name\":\"PF-C\",\"y\":[205.7,203.8,209.6,207.0,205.7,198.8,207.6,207.0,205.1,202.6,203.2,204.5,210.2,207.0,206.4,208.9,204.5,209.6,203.2,216.5,210.8,208.3,204.5,203.2,203.8,212.1,207.6,201.9,205.7,202.6,206.4,205.7,201.3,199.4,208.3,203.2,204.5,202.6,204.5,203.8,203.8,204.5,206.4,201.9,201.9,202.6,204.5,211.5,200.7,207.6,208.3],\"type\":\"box\"},{\"name\":\"C-PF\",\"y\":[205.1,210.8,208.3,207.0,208.3,209.6,208.3,205.7,204.5,208.9,207.0,210.8,208.9,207.6,203.8,206.4,207.6,208.3,208.9,207.0,205.1,207.0,207.0,201.3,207.0,200.7,204.5,215.3,203.8,205.1,204.5,201.3,208.3,210.8,203.8,208.9,211.5,208.9,207.0,207.0,208.9],\"type\":\"box\"},{\"name\":\"C\",\"y\":[212.1,204.5,199.4,210.8,205.7,215.3,212.1,212.7,208.9,207.6,210.2,209.6,209.6,208.3,204.5,204.5,210.2,208.3,207.6,205.7,215.9,205.7,205.1,205.7,208.3,203.8,208.3,203.2,217.8,200.0,209.6,206.4,214.6,208.3,206.4,207.0,211.5,200.7,207.6,210.2,208.3,212.7,209.6,213.4,205.1,212.7,211.5,210.2,208.9,205.1],\"type\":\"box\"}],                        {\"template\":{\"data\":{\"histogram2dcontour\":[{\"type\":\"histogram2dcontour\",\"colorbar\":{\"outlinewidth\":0,\"ticks\":\"\"},\"colorscale\":[[0.0,\"#0d0887\"],[0.1111111111111111,\"#46039f\"],[0.2222222222222222,\"#7201a8\"],[0.3333333333333333,\"#9c179e\"],[0.4444444444444444,\"#bd3786\"],[0.5555555555555556,\"#d8576b\"],[0.6666666666666666,\"#ed7953\"],[0.7777777777777778,\"#fb9f3a\"],[0.8888888888888888,\"#fdca26\"],[1.0,\"#f0f921\"]]}],\"choropleth\":[{\"type\":\"choropleth\",\"colorbar\":{\"outlinewidth\":0,\"ticks\":\"\"}}],\"histogram2d\":[{\"type\":\"histogram2d\",\"colorbar\":{\"outlinewidth\":0,\"ticks\":\"\"},\"colorscale\":[[0.0,\"#0d0887\"],[0.1111111111111111,\"#46039f\"],[0.2222222222222222,\"#7201a8\"],[0.3333333333333333,\"#9c179e\"],[0.4444444444444444,\"#bd3786\"],[0.5555555555555556,\"#d8576b\"],[0.6666666666666666,\"#ed7953\"],[0.7777777777777778,\"#fb9f3a\"],[0.8888888888888888,\"#fdca26\"],[1.0,\"#f0f921\"]]}],\"heatmap\":[{\"type\":\"heatmap\",\"colorbar\":{\"outlinewidth\":0,\"ticks\":\"\"},\"colorscale\":[[0.0,\"#0d0887\"],[0.1111111111111111,\"#46039f\"],[0.2222222222222222,\"#7201a8\"],[0.3333333333333333,\"#9c179e\"],[0.4444444444444444,\"#bd3786\"],[0.5555555555555556,\"#d8576b\"],[0.6666666666666666,\"#ed7953\"],[0.7777777777777778,\"#fb9f3a\"],[0.8888888888888888,\"#fdca26\"],[1.0,\"#f0f921\"]]}],\"heatmapgl\":[{\"type\":\"heatmapgl\",\"colorbar\":{\"outlinewidth\":0,\"ticks\":\"\"},\"colorscale\":[[0.0,\"#0d0887\"],[0.1111111111111111,\"#46039f\"],[0.2222222222222222,\"#7201a8\"],[0.3333333333333333,\"#9c179e\"],[0.4444444444444444,\"#bd3786\"],[0.5555555555555556,\"#d8576b\"],[0.6666666666666666,\"#ed7953\"],[0.7777777777777778,\"#fb9f3a\"],[0.8888888888888888,\"#fdca26\"],[1.0,\"#f0f921\"]]}],\"contourcarpet\":[{\"type\":\"contourcarpet\",\"colorbar\":{\"outlinewidth\":0,\"ticks\":\"\"}}],\"contour\":[{\"type\":\"contour\",\"colorbar\":{\"outlinewidth\":0,\"ticks\":\"\"},\"colorscale\":[[0.0,\"#0d0887\"],[0.1111111111111111,\"#46039f\"],[0.2222222222222222,\"#7201a8\"],[0.3333333333333333,\"#9c179e\"],[0.4444444444444444,\"#bd3786\"],[0.5555555555555556,\"#d8576b\"],[0.6666666666666666,\"#ed7953\"],[0.7777777777777778,\"#fb9f3a\"],[0.8888888888888888,\"#fdca26\"],[1.0,\"#f0f921\"]]}],\"surface\":[{\"type\":\"surface\",\"colorbar\":{\"outlinewidth\":0,\"ticks\":\"\"},\"colorscale\":[[0.0,\"#0d0887\"],[0.1111111111111111,\"#46039f\"],[0.2222222222222222,\"#7201a8\"],[0.3333333333333333,\"#9c179e\"],[0.4444444444444444,\"#bd3786\"],[0.5555555555555556,\"#d8576b\"],[0.6666666666666666,\"#ed7953\"],[0.7777777777777778,\"#fb9f3a\"],[0.8888888888888888,\"#fdca26\"],[1.0,\"#f0f921\"]]}],\"mesh3d\":[{\"type\":\"mesh3d\",\"colorbar\":{\"outlinewidth\":0,\"ticks\":\"\"}}],\"scatter\":[{\"fillpattern\":{\"fillmode\":\"overlay\",\"size\":10,\"solidity\":0.2},\"type\":\"scatter\"}],\"parcoords\":[{\"type\":\"parcoords\",\"line\":{\"colorbar\":{\"outlinewidth\":0,\"ticks\":\"\"}}}],\"scatterpolargl\":[{\"type\":\"scatterpolargl\",\"marker\":{\"colorbar\":{\"outlinewidth\":0,\"ticks\":\"\"}}}],\"bar\":[{\"error_x\":{\"color\":\"#2a3f5f\"},\"error_y\":{\"color\":\"#2a3f5f\"},\"marker\":{\"line\":{\"color\":\"#E5ECF6\",\"width\":0.5},\"pattern\":{\"fillmode\":\"overlay\",\"size\":10,\"solidity\":0.2}},\"type\":\"bar\"}],\"scattergeo\":[{\"type\":\"scattergeo\",\"marker\":{\"colorbar\":{\"outlinewidth\":0,\"ticks\":\"\"}}}],\"scatterpolar\":[{\"type\":\"scatterpolar\",\"marker\":{\"colorbar\":{\"outlinewidth\":0,\"ticks\":\"\"}}}],\"histogram\":[{\"marker\":{\"pattern\":{\"fillmode\":\"overlay\",\"size\":10,\"solidity\":0.2}},\"type\":\"histogram\"}],\"scattergl\":[{\"type\":\"scattergl\",\"marker\":{\"colorbar\":{\"outlinewidth\":0,\"ticks\":\"\"}}}],\"scatter3d\":[{\"type\":\"scatter3d\",\"line\":{\"colorbar\":{\"outlinewidth\":0,\"ticks\":\"\"}},\"marker\":{\"colorbar\":{\"outlinewidth\":0,\"ticks\":\"\"}}}],\"scattermapbox\":[{\"type\":\"scattermapbox\",\"marker\":{\"colorbar\":{\"outlinewidth\":0,\"ticks\":\"\"}}}],\"scatterternary\":[{\"type\":\"scatterternary\",\"marker\":{\"colorbar\":{\"outlinewidth\":0,\"ticks\":\"\"}}}],\"scattercarpet\":[{\"type\":\"scattercarpet\",\"marker\":{\"colorbar\":{\"outlinewidth\":0,\"ticks\":\"\"}}}],\"carpet\":[{\"aaxis\":{\"endlinecolor\":\"#2a3f5f\",\"gridcolor\":\"white\",\"linecolor\":\"white\",\"minorgridcolor\":\"white\",\"startlinecolor\":\"#2a3f5f\"},\"baxis\":{\"endlinecolor\":\"#2a3f5f\",\"gridcolor\":\"white\",\"linecolor\":\"white\",\"minorgridcolor\":\"white\",\"startlinecolor\":\"#2a3f5f\"},\"type\":\"carpet\"}],\"table\":[{\"cells\":{\"fill\":{\"color\":\"#EBF0F8\"},\"line\":{\"color\":\"white\"}},\"header\":{\"fill\":{\"color\":\"#C8D4E3\"},\"line\":{\"color\":\"white\"}},\"type\":\"table\"}],\"barpolar\":[{\"marker\":{\"line\":{\"color\":\"#E5ECF6\",\"width\":0.5},\"pattern\":{\"fillmode\":\"overlay\",\"size\":10,\"solidity\":0.2}},\"type\":\"barpolar\"}],\"pie\":[{\"automargin\":true,\"type\":\"pie\"}]},\"layout\":{\"autotypenumbers\":\"strict\",\"colorway\":[\"#636efa\",\"#EF553B\",\"#00cc96\",\"#ab63fa\",\"#FFA15A\",\"#19d3f3\",\"#FF6692\",\"#B6E880\",\"#FF97FF\",\"#FECB52\"],\"font\":{\"color\":\"#2a3f5f\"},\"hovermode\":\"closest\",\"hoverlabel\":{\"align\":\"left\"},\"paper_bgcolor\":\"white\",\"plot_bgcolor\":\"#E5ECF6\",\"polar\":{\"bgcolor\":\"#E5ECF6\",\"angularaxis\":{\"gridcolor\":\"white\",\"linecolor\":\"white\",\"ticks\":\"\"},\"radialaxis\":{\"gridcolor\":\"white\",\"linecolor\":\"white\",\"ticks\":\"\"}},\"ternary\":{\"bgcolor\":\"#E5ECF6\",\"aaxis\":{\"gridcolor\":\"white\",\"linecolor\":\"white\",\"ticks\":\"\"},\"baxis\":{\"gridcolor\":\"white\",\"linecolor\":\"white\",\"ticks\":\"\"},\"caxis\":{\"gridcolor\":\"white\",\"linecolor\":\"white\",\"ticks\":\"\"}},\"coloraxis\":{\"colorbar\":{\"outlinewidth\":0,\"ticks\":\"\"}},\"colorscale\":{\"sequential\":[[0.0,\"#0d0887\"],[0.1111111111111111,\"#46039f\"],[0.2222222222222222,\"#7201a8\"],[0.3333333333333333,\"#9c179e\"],[0.4444444444444444,\"#bd3786\"],[0.5555555555555556,\"#d8576b\"],[0.6666666666666666,\"#ed7953\"],[0.7777777777777778,\"#fb9f3a\"],[0.8888888888888888,\"#fdca26\"],[1.0,\"#f0f921\"]],\"sequentialminus\":[[0.0,\"#0d0887\"],[0.1111111111111111,\"#46039f\"],[0.2222222222222222,\"#7201a8\"],[0.3333333333333333,\"#9c179e\"],[0.4444444444444444,\"#bd3786\"],[0.5555555555555556,\"#d8576b\"],[0.6666666666666666,\"#ed7953\"],[0.7777777777777778,\"#fb9f3a\"],[0.8888888888888888,\"#fdca26\"],[1.0,\"#f0f921\"]],\"diverging\":[[0,\"#8e0152\"],[0.1,\"#c51b7d\"],[0.2,\"#de77ae\"],[0.3,\"#f1b6da\"],[0.4,\"#fde0ef\"],[0.5,\"#f7f7f7\"],[0.6,\"#e6f5d0\"],[0.7,\"#b8e186\"],[0.8,\"#7fbc41\"],[0.9,\"#4d9221\"],[1,\"#276419\"]]},\"xaxis\":{\"gridcolor\":\"white\",\"linecolor\":\"white\",\"ticks\":\"\",\"title\":{\"standoff\":15},\"zerolinecolor\":\"white\",\"automargin\":true,\"zerolinewidth\":2},\"yaxis\":{\"gridcolor\":\"white\",\"linecolor\":\"white\",\"ticks\":\"\",\"title\":{\"standoff\":15},\"zerolinecolor\":\"white\",\"automargin\":true,\"zerolinewidth\":2},\"scene\":{\"xaxis\":{\"backgroundcolor\":\"#E5ECF6\",\"gridcolor\":\"white\",\"linecolor\":\"white\",\"showbackground\":true,\"ticks\":\"\",\"zerolinecolor\":\"white\",\"gridwidth\":2},\"yaxis\":{\"backgroundcolor\":\"#E5ECF6\",\"gridcolor\":\"white\",\"linecolor\":\"white\",\"showbackground\":true,\"ticks\":\"\",\"zerolinecolor\":\"white\",\"gridwidth\":2},\"zaxis\":{\"backgroundcolor\":\"#E5ECF6\",\"gridcolor\":\"white\",\"linecolor\":\"white\",\"showbackground\":true,\"ticks\":\"\",\"zerolinecolor\":\"white\",\"gridwidth\":2}},\"shapedefaults\":{\"line\":{\"color\":\"#2a3f5f\"}},\"annotationdefaults\":{\"arrowcolor\":\"#2a3f5f\",\"arrowhead\":0,\"arrowwidth\":1},\"geo\":{\"bgcolor\":\"white\",\"landcolor\":\"#E5ECF6\",\"subunitcolor\":\"white\",\"showland\":true,\"showlakes\":true,\"lakecolor\":\"white\"},\"title\":{\"x\":0.05},\"mapbox\":{\"style\":\"light\"}}},\"title\":{\"text\":\"Distribuci\\u00f3n de Altura por Posici\\u00f3n\"}},                        {\"responsive\": true}                    )                };                            </script>        </div>"
      ],
      "text/plain": [
       "Figure({\n",
       "    'data': [{'name': 'PG',\n",
       "              'type': 'box',\n",
       "              'y': array([186.7, 179.1, 184.2, 181.6, 174.6, 185.4, 185.4, 179.7, 189.2, 178.4,\n",
       "                          189.2, 186.1, 186.7, 191.1, 185.4, 188. , 177.8, 189.9, 177.2, 188. ,\n",
       "                          174.6, 175.3, 188. , 184.2, 177.2, 185.4, 181.6, 186.7, 181.6, 189.2,\n",
       "                          191.8, 181. , 180.3, 193.7, 186.7, 185.4, 186.7, 182.9, 190.5, 191.1,\n",
       "                          182.9, 182.2, 189.2, 185.4, 182.9, 190.5, 176.5, 183.5, 186.7, 182.2,\n",
       "                          185.4, 180.3, 182.9, 188. , 184.2, 185.4, 177.8, 185.4, 189.9, 182.2,\n",
       "                          188. , 186.7, 188.6, 175.3, 189.2, 185.4, 184.8, 186.1, 189.2, 181. ,\n",
       "                          186.1, 194.9, 188. , 183.5, 183.5, 179.1, 185.4, 184.8, 190.5, 187.3,\n",
       "                          181.6, 184.8, 193. , 181.6, 182.2, 176.5, 193. , 194.3, 188.6, 188. ,\n",
       "                          179.7, 191.1, 188. , 180.3, 177.2, 187.3, 185.4, 180.3, 183.5, 181.6,\n",
       "                          173.4, 172.1, 184.2, 178.4, 185.4, 176.5, 179.1, 174.6, 183.5, 189.9,\n",
       "                          182.2, 188.6, 183.5, 177.2, 182.9, 193.7, 194.9, 180.3, 181. , 183.5,\n",
       "                          186.1, 185.4, 181. , 186.1, 183.5, 182.9, 183.5, 189.2, 184.2, 185.4,\n",
       "                          184.8, 179.7, 183.5, 184.2, 175.3, 191.1])},\n",
       "             {'name': 'PG-SG',\n",
       "              'type': 'box',\n",
       "              'y': array([187.3, 191.1, 196.8, 182.2, 189.9, 186.7, 184.2, 184.8, 188. , 185.4,\n",
       "                          191.1, 181.6, 187.3, 198.8, 190.5, 191.1, 183.5, 182.2, 191.1, 184.8,\n",
       "                          193.7, 185.4, 186.1, 191.1, 188.6, 196.2, 184.2, 184.2, 194.9, 189.9,\n",
       "                          188. , 186.7, 188. , 186.1, 182.2, 184.8, 196.2, 186.7])},\n",
       "             {'name': 'SG-PG',\n",
       "              'type': 'box',\n",
       "              'y': array([184.8, 190.5, 188. , 188.6, 184.8, 190.5, 188. , 186.1, 191.1, 191.8,\n",
       "                          192.4, 193. , 196.2, 187.3, 189.2, 192.4, 188.6, 189.2, 188.6, 191.8,\n",
       "                          191.8, 191.1, 192.4, 182.2, 197.5, 188. ])},\n",
       "             {'name': 'SG',\n",
       "              'type': 'box',\n",
       "              'y': array([191.1, 194.9, 197.5, 186.7, 188. , 191.8, 190.5, 196.2, 191.8, 193.7,\n",
       "                          186.7, 191.8, 196.2, 192.4, 193.7, 190.5, 188.6, 188. , 193. , 189.2,\n",
       "                          190.5, 193.7, 191.8, 190.5, 193. , 193. , 191.1, 194.3, 193. , 194.3,\n",
       "                          188. , 192.4, 192.4, 193. , 188. , 191.8, 194.9, 191.8, 190.5, 195.6,\n",
       "                          195.6, 192.4, 190.5, 188. , 191.1, 190.5, 193.7, 191.8, 195.6, 193.7,\n",
       "                          193.7, 196.8, 189.9, 188.6, 193. , 191.1, 194.3, 194.3, 193. , 190.5,\n",
       "                          193.7, 196.2, 194.3, 194.9, 187.3, 196.2, 194.3, 189.2, 195.6, 189.9,\n",
       "                          193.7, 196.2, 186.1, 190.5, 194.3, 189.2, 189.9, 196.2, 185.4, 191.8,\n",
       "                          193. , 190.5, 186.7, 191.8, 189.9, 195.6, 194.3, 189.2, 189.9, 193.7,\n",
       "                          195.6, 189.9, 192.4, 189.2, 191.8, 193. , 186.7, 188.6, 194.3, 190.5,\n",
       "                          190.5, 193.7, 194.3, 200.7, 190.5, 193. , 190.5, 190.5, 195.6, 191.1,\n",
       "                          195.6, 184.8, 193. , 189.9, 193. , 191.8, 190.5, 189.9, 194.9, 190.5,\n",
       "                          188.6, 195.6, 191.1])},\n",
       "             {'name': 'SG-SF',\n",
       "              'type': 'box',\n",
       "              'y': array([196.8, 188. , 196.2, 199.4, 195.6, 196.8, 195.6, 197.5, 201.3, 193.7,\n",
       "                          194.3, 195.6, 193. , 199.4, 196.8, 194.9, 194.9, 198.1, 193. , 194.3,\n",
       "                          193.7, 194.9, 196.8, 193.7, 194.3, 195.6, 194.9, 197.5, 196.2, 196.8,\n",
       "                          195.6, 200.7, 192.4, 195.6, 194.9, 194.3, 196.2, 191.8, 198.1, 195.6,\n",
       "                          193. , 199.4, 193. , 196.8, 194.3, 189.9, 198.8, 197.5, 196.8, 193. ,\n",
       "                          198.8, 189.2, 200.7, 198.8, 199.4, 192.4, 192.4])},\n",
       "             {'name': 'SF-SG',\n",
       "              'type': 'box',\n",
       "              'y': array([200.7, 193. , 192.4, 196.2, 195.6, 196.2, 197.5, 195.6, 198.1, 194.3,\n",
       "                          194.9, 197.5, 194.9, 194.9, 198.1, 194.9, 198.1, 196.2, 197.5, 194.3,\n",
       "                          198.1, 197.5, 196.2, 194.9, 189.9, 196.2, 198.1, 197.5, 196.8, 194.9,\n",
       "                          194.9, 198.8, 193. , 194.3])},\n",
       "             {'name': 'SF',\n",
       "              'type': 'box',\n",
       "              'y': array([205.1, 198.1, 201.3, 201.9, 198.1, 201.3, 194.9, 200. , 198.1, 202.6,\n",
       "                          200.7, 198.8, 205.7, 196.2, 199.4, 198.1, 200. , 198.1, 201.9, 196.8,\n",
       "                          198.8, 198.8, 198.1, 197.5, 206.4, 202.6, 200.7, 200.7, 198.8, 197.5,\n",
       "                          196.2, 198.1, 197.5, 200. , 200.7, 203.8, 194.9, 193. , 200. , 198.1,\n",
       "                          200. , 202.6, 202.6, 203.2, 196.8, 201.3, 192.4, 197.5, 199.4, 193. ,\n",
       "                          200. , 199.4, 203.2, 200. , 199.4, 198.8, 201.3, 199.4, 196.2, 200. ,\n",
       "                          198.8, 197.5, 194.3, 197.5, 201.3, 201.3, 203.8, 198.1, 203.2, 196.8,\n",
       "                          201.3, 206.4, 199.4, 196.2, 199.4, 197.5, 198.8, 201.3, 201.3, 200.7,\n",
       "                          201.9, 201.9, 198.8, 202.6, 198.1, 200.7, 191.8, 196.8, 194.3, 203.2,\n",
       "                          199.4, 198.8, 202.6, 194.9, 198.1, 205.1, 197.5, 196.8, 197.5, 201.9,\n",
       "                          195.6, 200. , 200.7, 199.4, 201.3, 196.8, 201.3])},\n",
       "             {'name': 'SF-PF',\n",
       "              'type': 'box',\n",
       "              'y': array([198.1, 200.7, 199.4, 203.8, 203.8, 199.4, 201.9, 207.6, 197.5, 198.8,\n",
       "                          200. , 203.8, 197.5, 201.9, 201.3, 199.4, 205.7, 204.5, 200.7, 206.4,\n",
       "                          194.3, 198.1, 198.8, 200. , 200.7, 200.7, 201.9, 198.8, 196.8, 198.1,\n",
       "                          196.2, 203.2])},\n",
       "             {'name': 'PF-SF',\n",
       "              'type': 'box',\n",
       "              'y': array([198.1, 200.7, 198.1, 203.8, 205.7, 206.4, 208.9, 205.7, 207. , 203.8,\n",
       "                          203.2, 201.3, 199.4, 197.5, 205.7, 204.5, 201.9, 203.8, 201.3, 199.4,\n",
       "                          200.7, 207. , 204.5, 201.9, 203.8, 203.2, 200.7, 205.1, 201.3, 205.7,\n",
       "                          204.5, 203.2])},\n",
       "             {'name': 'PF',\n",
       "              'type': 'box',\n",
       "              'y': array([208.9, 198.8, 200.7, 201.9, 198.1, 206.4, 198.1, 198.1, 205.1, 201.3,\n",
       "                          201.3, 199.4, 196.8, 205.7, 200.7, 204.5, 201.3, 216.5, 202.6, 205.1,\n",
       "                          200.7, 203.8, 208.3, 208.3, 204.5, 203.8, 202.6, 200. , 198.8, 205.1,\n",
       "                          201.9, 204.5, 204.5, 198.8, 199.4, 204.5, 208.9, 203.8, 201.3, 201.3,\n",
       "                          200.7, 204.5, 200.7, 200. , 194.9, 205.7, 204.5, 205.1, 198.1, 200.7,\n",
       "                          205.7, 205.1, 198.1, 201.3, 200.7, 203.8, 207. , 201.3, 214. , 204.5,\n",
       "                          202.6, 201.3, 200. , 203.2, 203.2, 200. , 205.1, 205.1, 203.2, 198.1,\n",
       "                          205.7, 201.3, 205.1, 203.2, 201.9, 200.7, 201.9, 200.7, 203.2, 203.8,\n",
       "                          201.3, 201.3, 206.4, 198.8, 205.7, 201.9, 199.4, 198.8, 201.3, 203.8,\n",
       "                          201.9, 212.1, 203.8, 204.5, 203.2, 205.1, 205.1, 207. , 203.8, 196.8,\n",
       "                          203.8, 200.7, 198.8, 198.1, 207.6, 201.2, 196.8, 201.9, 207. , 200. ,\n",
       "                          201.3, 205.1, 204.5, 201.3, 208.3, 206.4, 201.3, 204.5, 201.9, 203.2,\n",
       "                          205.1, 203.8, 207. , 202.6, 210.2, 199.4, 205.1, 201.3, 208.3, 212.7,\n",
       "                          202.6, 203.2, 207. , 205.1, 195.6, 208.3, 203.2, 203.8, 202.6, 200.7,\n",
       "                          200.7, 200.7, 203.2, 198.1, 202.6, 196.2, 195.6, 204.5, 203.8, 205.1,\n",
       "                          206.4, 205.1, 203.2, 201.3, 201.9, 205.7, 205.7, 205.7, 205.7, 206.4,\n",
       "                          200. ])},\n",
       "             {'name': 'PF-C',\n",
       "              'type': 'box',\n",
       "              'y': array([205.7, 203.8, 209.6, 207. , 205.7, 198.8, 207.6, 207. , 205.1, 202.6,\n",
       "                          203.2, 204.5, 210.2, 207. , 206.4, 208.9, 204.5, 209.6, 203.2, 216.5,\n",
       "                          210.8, 208.3, 204.5, 203.2, 203.8, 212.1, 207.6, 201.9, 205.7, 202.6,\n",
       "                          206.4, 205.7, 201.3, 199.4, 208.3, 203.2, 204.5, 202.6, 204.5, 203.8,\n",
       "                          203.8, 204.5, 206.4, 201.9, 201.9, 202.6, 204.5, 211.5, 200.7, 207.6,\n",
       "                          208.3])},\n",
       "             {'name': 'C-PF',\n",
       "              'type': 'box',\n",
       "              'y': array([205.1, 210.8, 208.3, 207. , 208.3, 209.6, 208.3, 205.7, 204.5, 208.9,\n",
       "                          207. , 210.8, 208.9, 207.6, 203.8, 206.4, 207.6, 208.3, 208.9, 207. ,\n",
       "                          205.1, 207. , 207. , 201.3, 207. , 200.7, 204.5, 215.3, 203.8, 205.1,\n",
       "                          204.5, 201.3, 208.3, 210.8, 203.8, 208.9, 211.5, 208.9, 207. , 207. ,\n",
       "                          208.9])},\n",
       "             {'name': 'C',\n",
       "              'type': 'box',\n",
       "              'y': array([212.1, 204.5, 199.4, 210.8, 205.7, 215.3, 212.1, 212.7, 208.9, 207.6,\n",
       "                          210.2, 209.6, 209.6, 208.3, 204.5, 204.5, 210.2, 208.3, 207.6, 205.7,\n",
       "                          215.9, 205.7, 205.1, 205.7, 208.3, 203.8, 208.3, 203.2, 217.8, 200. ,\n",
       "                          209.6, 206.4, 214.6, 208.3, 206.4, 207. , 211.5, 200.7, 207.6, 210.2,\n",
       "                          208.3, 212.7, 209.6, 213.4, 205.1, 212.7, 211.5, 210.2, 208.9, 205.1])}],\n",
       "    'layout': {'template': '...', 'title': {'text': 'Distribución de Altura por Posición'}}\n",
       "})"
      ]
     },
     "execution_count": 48,
     "metadata": {},
     "output_type": "execute_result"
    }
   ],
   "source": [
    "# Mapa de Calor\n",
    "corr_matrix = df[['height', \"position\", 'weight', 'wingspan', 'reach_standing', \"body_fat_pct\"]].corr()\n",
    "sns.heatmap(corr_matrix, annot=True, cmap='coolwarm')\n",
    "plt.title('Mapa de Calor de Correlaciones')\n",
    "plt.show()\n",
    "\n",
    "\n",
    "# Gráfico de Caja\n",
    "fig_box = go.Figure()\n",
    "positions = ['PG', \"PG-SG\", \"SG-PG\", 'SG', \"SG-SF\", \"SF-SG\", 'SF', \"SF-PF\", \"PF-SF\", 'PF', \"PF-C\", \"C-PF\", 'C']\n",
    "for position in positions:\n",
    "    fig_box.add_trace(go.Box(y=df[df['position'] == position]['height'], name=position))\n",
    "fig_box.update_layout(title='Distribución de Altura por Posición')\n",
    "fig_box"
   ]
  }
 ],
 "metadata": {
  "kernelspec": {
   "display_name": "Python 3",
   "language": "python",
   "name": "python3"
  },
  "language_info": {
   "codemirror_mode": {
    "name": "ipython",
    "version": 3
   },
   "file_extension": ".py",
   "mimetype": "text/x-python",
   "name": "python",
   "nbconvert_exporter": "python",
   "pygments_lexer": "ipython3",
   "version": "3.11.6"
  }
 },
 "nbformat": 4,
 "nbformat_minor": 2
}
