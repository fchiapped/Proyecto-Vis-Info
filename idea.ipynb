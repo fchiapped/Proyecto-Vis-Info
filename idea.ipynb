{
 "cells": [
  {
   "cell_type": "code",
   "execution_count": 22,
   "metadata": {},
   "outputs": [],
   "source": [
    "import pandas as pd\n",
    "import seaborn as sns\n",
    "import matplotlib.pyplot as plt\n",
    "import plotly.graph_objects as go\n",
    "\n",
    "from bs4 import BeautifulSoup as bs\n",
    "import pandas as pd\n",
    "import requests"
   ]
  },
  {
   "cell_type": "code",
   "execution_count": 23,
   "metadata": {},
   "outputs": [
    {
     "data": {
      "text/html": [
       "<div>\n",
       "<style scoped>\n",
       "    .dataframe tbody tr th:only-of-type {\n",
       "        vertical-align: middle;\n",
       "    }\n",
       "\n",
       "    .dataframe tbody tr th {\n",
       "        vertical-align: top;\n",
       "    }\n",
       "\n",
       "    .dataframe thead th {\n",
       "        text-align: right;\n",
       "    }\n",
       "</style>\n",
       "<table border=\"1\" class=\"dataframe\">\n",
       "  <thead>\n",
       "    <tr style=\"text-align: right;\">\n",
       "      <th></th>\n",
       "      <th>player_id</th>\n",
       "      <th>player_name</th>\n",
       "      <th>yearDraft</th>\n",
       "      <th>yearCombine</th>\n",
       "      <th>numberPickOverall</th>\n",
       "      <th>position</th>\n",
       "      <th>height</th>\n",
       "      <th>weight</th>\n",
       "      <th>wingspan</th>\n",
       "      <th>reach_standing</th>\n",
       "      <th>standing_vertical</th>\n",
       "      <th>max_vertical</th>\n",
       "      <th>bench_reps</th>\n",
       "      <th>timeLaneAgility</th>\n",
       "      <th>timeThreeQuarterCourtSprint</th>\n",
       "      <th>timeModifiedLaneAgility</th>\n",
       "      <th>lengthHandInches</th>\n",
       "      <th>widthHandInches</th>\n",
       "      <th>body_fat_pct</th>\n",
       "      <th>drafted</th>\n",
       "    </tr>\n",
       "  </thead>\n",
       "  <tbody>\n",
       "    <tr>\n",
       "      <th>0</th>\n",
       "      <td>202701.0</td>\n",
       "      <td>Nolan Smith</td>\n",
       "      <td>2011.0</td>\n",
       "      <td>2011</td>\n",
       "      <td>21.0</td>\n",
       "      <td>PG</td>\n",
       "      <td>73.50</td>\n",
       "      <td>187.6</td>\n",
       "      <td>77.50</td>\n",
       "      <td>99.0</td>\n",
       "      <td>28.5</td>\n",
       "      <td>34.0</td>\n",
       "      <td>9.0</td>\n",
       "      <td>11.05</td>\n",
       "      <td>3.17</td>\n",
       "      <td>NaN</td>\n",
       "      <td>8.50</td>\n",
       "      <td>9.25</td>\n",
       "      <td>5.6</td>\n",
       "      <td>True</td>\n",
       "    </tr>\n",
       "    <tr>\n",
       "      <th>1</th>\n",
       "      <td>203078.0</td>\n",
       "      <td>Bradley Beal</td>\n",
       "      <td>2012.0</td>\n",
       "      <td>2012</td>\n",
       "      <td>3.0</td>\n",
       "      <td>SG</td>\n",
       "      <td>75.25</td>\n",
       "      <td>201.8</td>\n",
       "      <td>80.00</td>\n",
       "      <td>100.0</td>\n",
       "      <td>33.0</td>\n",
       "      <td>39.0</td>\n",
       "      <td>8.0</td>\n",
       "      <td>10.95</td>\n",
       "      <td>3.28</td>\n",
       "      <td>NaN</td>\n",
       "      <td>8.50</td>\n",
       "      <td>9.00</td>\n",
       "      <td>6.0</td>\n",
       "      <td>True</td>\n",
       "    </tr>\n",
       "    <tr>\n",
       "      <th>2</th>\n",
       "      <td>2049.0</td>\n",
       "      <td>Speedy Claxton</td>\n",
       "      <td>2000.0</td>\n",
       "      <td>2000</td>\n",
       "      <td>20.0</td>\n",
       "      <td>PG</td>\n",
       "      <td>70.50</td>\n",
       "      <td>166.0</td>\n",
       "      <td>72.00</td>\n",
       "      <td>94.5</td>\n",
       "      <td>36.0</td>\n",
       "      <td>42.5</td>\n",
       "      <td>6.0</td>\n",
       "      <td>10.48</td>\n",
       "      <td>3.06</td>\n",
       "      <td>NaN</td>\n",
       "      <td>NaN</td>\n",
       "      <td>NaN</td>\n",
       "      <td>NaN</td>\n",
       "      <td>True</td>\n",
       "    </tr>\n",
       "    <tr>\n",
       "      <th>3</th>\n",
       "      <td>202718.0</td>\n",
       "      <td>Chandler Parsons</td>\n",
       "      <td>2011.0</td>\n",
       "      <td>2011</td>\n",
       "      <td>38.0</td>\n",
       "      <td>SF</td>\n",
       "      <td>80.75</td>\n",
       "      <td>221.2</td>\n",
       "      <td>81.50</td>\n",
       "      <td>104.5</td>\n",
       "      <td>25.5</td>\n",
       "      <td>31.5</td>\n",
       "      <td>4.0</td>\n",
       "      <td>11.05</td>\n",
       "      <td>3.29</td>\n",
       "      <td>NaN</td>\n",
       "      <td>8.25</td>\n",
       "      <td>10.00</td>\n",
       "      <td>7.0</td>\n",
       "      <td>True</td>\n",
       "    </tr>\n",
       "    <tr>\n",
       "      <th>4</th>\n",
       "      <td>201446.0</td>\n",
       "      <td>Mike Taylor</td>\n",
       "      <td>2008.0</td>\n",
       "      <td>2008</td>\n",
       "      <td>55.0</td>\n",
       "      <td>SG-PG</td>\n",
       "      <td>72.75</td>\n",
       "      <td>166.2</td>\n",
       "      <td>79.25</td>\n",
       "      <td>98.0</td>\n",
       "      <td>31.0</td>\n",
       "      <td>39.0</td>\n",
       "      <td>2.0</td>\n",
       "      <td>10.98</td>\n",
       "      <td>3.08</td>\n",
       "      <td>NaN</td>\n",
       "      <td>NaN</td>\n",
       "      <td>NaN</td>\n",
       "      <td>3.8</td>\n",
       "      <td>True</td>\n",
       "    </tr>\n",
       "    <tr>\n",
       "      <th>...</th>\n",
       "      <td>...</td>\n",
       "      <td>...</td>\n",
       "      <td>...</td>\n",
       "      <td>...</td>\n",
       "      <td>...</td>\n",
       "      <td>...</td>\n",
       "      <td>...</td>\n",
       "      <td>...</td>\n",
       "      <td>...</td>\n",
       "      <td>...</td>\n",
       "      <td>...</td>\n",
       "      <td>...</td>\n",
       "      <td>...</td>\n",
       "      <td>...</td>\n",
       "      <td>...</td>\n",
       "      <td>...</td>\n",
       "      <td>...</td>\n",
       "      <td>...</td>\n",
       "      <td>...</td>\n",
       "      <td>...</td>\n",
       "    </tr>\n",
       "    <tr>\n",
       "      <th>1111</th>\n",
       "      <td>1629617.0</td>\n",
       "      <td>Reggie Perry</td>\n",
       "      <td>2020.0</td>\n",
       "      <td>2019</td>\n",
       "      <td>57.0</td>\n",
       "      <td>SF-PF</td>\n",
       "      <td>80.00</td>\n",
       "      <td>250.8</td>\n",
       "      <td>84.50</td>\n",
       "      <td>106.0</td>\n",
       "      <td>28.5</td>\n",
       "      <td>31.5</td>\n",
       "      <td>15.0</td>\n",
       "      <td>12.46</td>\n",
       "      <td>3.30</td>\n",
       "      <td>3.40</td>\n",
       "      <td>9.00</td>\n",
       "      <td>10.00</td>\n",
       "      <td>6.7</td>\n",
       "      <td>True</td>\n",
       "    </tr>\n",
       "    <tr>\n",
       "      <th>1112</th>\n",
       "      <td>12132.0</td>\n",
       "      <td>Eric Coley</td>\n",
       "      <td>NaN</td>\n",
       "      <td>2000</td>\n",
       "      <td>NaN</td>\n",
       "      <td>SG-SF</td>\n",
       "      <td>76.00</td>\n",
       "      <td>205.0</td>\n",
       "      <td>83.00</td>\n",
       "      <td>102.0</td>\n",
       "      <td>35.0</td>\n",
       "      <td>38.0</td>\n",
       "      <td>10.0</td>\n",
       "      <td>11.40</td>\n",
       "      <td>3.15</td>\n",
       "      <td>NaN</td>\n",
       "      <td>NaN</td>\n",
       "      <td>NaN</td>\n",
       "      <td>NaN</td>\n",
       "      <td>False</td>\n",
       "    </tr>\n",
       "    <tr>\n",
       "      <th>1113</th>\n",
       "      <td>2090.0</td>\n",
       "      <td>Justin Love</td>\n",
       "      <td>NaN</td>\n",
       "      <td>2000</td>\n",
       "      <td>NaN</td>\n",
       "      <td>PG-SG</td>\n",
       "      <td>73.50</td>\n",
       "      <td>205.5</td>\n",
       "      <td>76.50</td>\n",
       "      <td>97.5</td>\n",
       "      <td>31.0</td>\n",
       "      <td>38.5</td>\n",
       "      <td>24.0</td>\n",
       "      <td>10.99</td>\n",
       "      <td>3.31</td>\n",
       "      <td>NaN</td>\n",
       "      <td>NaN</td>\n",
       "      <td>NaN</td>\n",
       "      <td>NaN</td>\n",
       "      <td>False</td>\n",
       "    </tr>\n",
       "    <tr>\n",
       "      <th>1114</th>\n",
       "      <td>1628977.0</td>\n",
       "      <td>Hamidou Diallo</td>\n",
       "      <td>2018.0</td>\n",
       "      <td>2017</td>\n",
       "      <td>45.0</td>\n",
       "      <td>SG-SF</td>\n",
       "      <td>75.75</td>\n",
       "      <td>197.4</td>\n",
       "      <td>83.25</td>\n",
       "      <td>101.5</td>\n",
       "      <td>34.5</td>\n",
       "      <td>44.5</td>\n",
       "      <td>0.0</td>\n",
       "      <td>10.88</td>\n",
       "      <td>3.11</td>\n",
       "      <td>2.79</td>\n",
       "      <td>8.50</td>\n",
       "      <td>9.50</td>\n",
       "      <td>5.2</td>\n",
       "      <td>True</td>\n",
       "    </tr>\n",
       "    <tr>\n",
       "      <th>1115</th>\n",
       "      <td>2213.0</td>\n",
       "      <td>Kirk Haston</td>\n",
       "      <td>2001.0</td>\n",
       "      <td>2001</td>\n",
       "      <td>16.0</td>\n",
       "      <td>PF-SF</td>\n",
       "      <td>80.00</td>\n",
       "      <td>242.0</td>\n",
       "      <td>84.25</td>\n",
       "      <td>106.0</td>\n",
       "      <td>27.0</td>\n",
       "      <td>31.5</td>\n",
       "      <td>11.0</td>\n",
       "      <td>12.25</td>\n",
       "      <td>3.35</td>\n",
       "      <td>NaN</td>\n",
       "      <td>NaN</td>\n",
       "      <td>NaN</td>\n",
       "      <td>10.5</td>\n",
       "      <td>True</td>\n",
       "    </tr>\n",
       "  </tbody>\n",
       "</table>\n",
       "<p>1116 rows × 20 columns</p>\n",
       "</div>"
      ],
      "text/plain": [
       "      player_id       player_name  yearDraft  yearCombine  numberPickOverall  \\\n",
       "0      202701.0       Nolan Smith     2011.0         2011               21.0   \n",
       "1      203078.0      Bradley Beal     2012.0         2012                3.0   \n",
       "2        2049.0    Speedy Claxton     2000.0         2000               20.0   \n",
       "3      202718.0  Chandler Parsons     2011.0         2011               38.0   \n",
       "4      201446.0       Mike Taylor     2008.0         2008               55.0   \n",
       "...         ...               ...        ...          ...                ...   \n",
       "1111  1629617.0      Reggie Perry     2020.0         2019               57.0   \n",
       "1112    12132.0        Eric Coley        NaN         2000                NaN   \n",
       "1113     2090.0       Justin Love        NaN         2000                NaN   \n",
       "1114  1628977.0    Hamidou Diallo     2018.0         2017               45.0   \n",
       "1115     2213.0       Kirk Haston     2001.0         2001               16.0   \n",
       "\n",
       "     position  height  weight  wingspan  reach_standing  standing_vertical  \\\n",
       "0          PG   73.50   187.6     77.50            99.0               28.5   \n",
       "1          SG   75.25   201.8     80.00           100.0               33.0   \n",
       "2          PG   70.50   166.0     72.00            94.5               36.0   \n",
       "3          SF   80.75   221.2     81.50           104.5               25.5   \n",
       "4       SG-PG   72.75   166.2     79.25            98.0               31.0   \n",
       "...       ...     ...     ...       ...             ...                ...   \n",
       "1111    SF-PF   80.00   250.8     84.50           106.0               28.5   \n",
       "1112    SG-SF   76.00   205.0     83.00           102.0               35.0   \n",
       "1113    PG-SG   73.50   205.5     76.50            97.5               31.0   \n",
       "1114    SG-SF   75.75   197.4     83.25           101.5               34.5   \n",
       "1115    PF-SF   80.00   242.0     84.25           106.0               27.0   \n",
       "\n",
       "      max_vertical  bench_reps  timeLaneAgility  timeThreeQuarterCourtSprint  \\\n",
       "0             34.0         9.0            11.05                         3.17   \n",
       "1             39.0         8.0            10.95                         3.28   \n",
       "2             42.5         6.0            10.48                         3.06   \n",
       "3             31.5         4.0            11.05                         3.29   \n",
       "4             39.0         2.0            10.98                         3.08   \n",
       "...            ...         ...              ...                          ...   \n",
       "1111          31.5        15.0            12.46                         3.30   \n",
       "1112          38.0        10.0            11.40                         3.15   \n",
       "1113          38.5        24.0            10.99                         3.31   \n",
       "1114          44.5         0.0            10.88                         3.11   \n",
       "1115          31.5        11.0            12.25                         3.35   \n",
       "\n",
       "      timeModifiedLaneAgility  lengthHandInches  widthHandInches  \\\n",
       "0                         NaN              8.50             9.25   \n",
       "1                         NaN              8.50             9.00   \n",
       "2                         NaN               NaN              NaN   \n",
       "3                         NaN              8.25            10.00   \n",
       "4                         NaN               NaN              NaN   \n",
       "...                       ...               ...              ...   \n",
       "1111                     3.40              9.00            10.00   \n",
       "1112                      NaN               NaN              NaN   \n",
       "1113                      NaN               NaN              NaN   \n",
       "1114                     2.79              8.50             9.50   \n",
       "1115                      NaN               NaN              NaN   \n",
       "\n",
       "      body_fat_pct  drafted  \n",
       "0              5.6     True  \n",
       "1              6.0     True  \n",
       "2              NaN     True  \n",
       "3              7.0     True  \n",
       "4              3.8     True  \n",
       "...            ...      ...  \n",
       "1111           6.7     True  \n",
       "1112           NaN    False  \n",
       "1113           NaN    False  \n",
       "1114           5.2     True  \n",
       "1115          10.5     True  \n",
       "\n",
       "[1116 rows x 20 columns]"
      ]
     },
     "execution_count": 23,
     "metadata": {},
     "output_type": "execute_result"
    }
   ],
   "source": [
    "df = pd.read_csv(\"draft_combine_train.csv\")\n",
    "df"
   ]
  },
  {
   "cell_type": "code",
   "execution_count": 24,
   "metadata": {},
   "outputs": [],
   "source": [
    "df.drop([\"player_id\", \"timeModifiedLaneAgility\"], axis=1, inplace=True)\n",
    "\n",
    "# Convertir medidas a sistema métrico\n",
    "df[['height', 'wingspan', 'max_vertical', 'standing_vertical', 'reach_standing', 'lengthHandInches', 'widthHandInches']] *= 2.54\n",
    "df.columns = df.columns.str.replace('Inches', '')\n",
    "df[[\"weight\"]] *= 0.453592\n",
    "\n",
    "\n",
    "df[['height', 'wingspan']] /= 100\n",
    "df = df.round(2)"
   ]
  },
  {
   "cell_type": "code",
   "execution_count": 25,
   "metadata": {},
   "outputs": [
    {
     "name": "stdout",
     "output_type": "stream",
     "text": [
      "player_name                      0\n",
      "yearDraft                      325\n",
      "yearCombine                      0\n",
      "numberPickOverall              325\n",
      "position                         1\n",
      "height                           0\n",
      "weight                           0\n",
      "wingspan                         0\n",
      "reach_standing                   0\n",
      "standing_vertical                5\n",
      "max_vertical                     4\n",
      "bench_reps                     135\n",
      "timeLaneAgility                 11\n",
      "timeThreeQuarterCourtSprint      9\n",
      "lengthHand                     449\n",
      "widthHand                      449\n",
      "body_fat_pct                    73\n",
      "drafted                          0\n",
      "dtype: int64\n"
     ]
    }
   ],
   "source": [
    "#bench_reps = repeticiones 185lbs(84 kg)\n",
    "df = df.dropna(thresh=df.shape[1] - 4)\n",
    "nan_counts = df.isna().sum()\n",
    "print(nan_counts)\n"
   ]
  },
  {
   "cell_type": "code",
   "execution_count": 26,
   "metadata": {},
   "outputs": [
    {
     "name": "stdout",
     "output_type": "stream",
     "text": [
      "<class 'pandas.core.frame.DataFrame'>\n",
      "Int64Index: 889 entries, 0 to 1115\n",
      "Data columns (total 18 columns):\n",
      " #   Column                       Non-Null Count  Dtype  \n",
      "---  ------                       --------------  -----  \n",
      " 0   player_name                  889 non-null    object \n",
      " 1   yearDraft                    564 non-null    float64\n",
      " 2   yearCombine                  889 non-null    int64  \n",
      " 3   numberPickOverall            564 non-null    float64\n",
      " 4   position                     888 non-null    object \n",
      " 5   height                       889 non-null    float64\n",
      " 6   weight                       889 non-null    float64\n",
      " 7   wingspan                     889 non-null    float64\n",
      " 8   reach_standing               889 non-null    float64\n",
      " 9   standing_vertical            884 non-null    float64\n",
      " 10  max_vertical                 885 non-null    float64\n",
      " 11  bench_reps                   754 non-null    float64\n",
      " 12  timeLaneAgility              878 non-null    float64\n",
      " 13  timeThreeQuarterCourtSprint  880 non-null    float64\n",
      " 14  lengthHand                   440 non-null    float64\n",
      " 15  widthHand                    440 non-null    float64\n",
      " 16  body_fat_pct                 816 non-null    float64\n",
      " 17  drafted                      889 non-null    bool   \n",
      "dtypes: bool(1), float64(14), int64(1), object(2)\n",
      "memory usage: 125.9+ KB\n"
     ]
    }
   ],
   "source": [
    "df.info()\n",
    "df.to_csv(\"DraftCombine.csv\", index=False)"
   ]
  },
  {
   "cell_type": "code",
   "execution_count": 27,
   "metadata": {},
   "outputs": [
    {
     "data": {
      "text/html": [
       "<div>\n",
       "<style scoped>\n",
       "    .dataframe tbody tr th:only-of-type {\n",
       "        vertical-align: middle;\n",
       "    }\n",
       "\n",
       "    .dataframe tbody tr th {\n",
       "        vertical-align: top;\n",
       "    }\n",
       "\n",
       "    .dataframe thead th {\n",
       "        text-align: right;\n",
       "    }\n",
       "</style>\n",
       "<table border=\"1\" class=\"dataframe\">\n",
       "  <thead>\n",
       "    <tr style=\"text-align: right;\">\n",
       "      <th></th>\n",
       "      <th>player_name</th>\n",
       "      <th>yearDraft</th>\n",
       "      <th>yearCombine</th>\n",
       "      <th>numberPickOverall</th>\n",
       "      <th>position</th>\n",
       "      <th>height</th>\n",
       "      <th>weight</th>\n",
       "      <th>wingspan</th>\n",
       "      <th>reach_standing</th>\n",
       "      <th>standing_vertical</th>\n",
       "      <th>max_vertical</th>\n",
       "      <th>bench_reps</th>\n",
       "      <th>timeLaneAgility</th>\n",
       "      <th>timeThreeQuarterCourtSprint</th>\n",
       "      <th>lengthHand</th>\n",
       "      <th>widthHand</th>\n",
       "      <th>body_fat_pct</th>\n",
       "      <th>drafted</th>\n",
       "    </tr>\n",
       "  </thead>\n",
       "  <tbody>\n",
       "    <tr>\n",
       "      <th>0</th>\n",
       "      <td>Nolan Smith</td>\n",
       "      <td>2011.0</td>\n",
       "      <td>2011</td>\n",
       "      <td>21.0</td>\n",
       "      <td>PG</td>\n",
       "      <td>1.87</td>\n",
       "      <td>85.09</td>\n",
       "      <td>1.97</td>\n",
       "      <td>251.46</td>\n",
       "      <td>72.39</td>\n",
       "      <td>86.36</td>\n",
       "      <td>9.0</td>\n",
       "      <td>11.05</td>\n",
       "      <td>3.17</td>\n",
       "      <td>21.59</td>\n",
       "      <td>23.50</td>\n",
       "      <td>5.6</td>\n",
       "      <td>True</td>\n",
       "    </tr>\n",
       "    <tr>\n",
       "      <th>1</th>\n",
       "      <td>Bradley Beal</td>\n",
       "      <td>2012.0</td>\n",
       "      <td>2012</td>\n",
       "      <td>3.0</td>\n",
       "      <td>SG</td>\n",
       "      <td>1.91</td>\n",
       "      <td>91.53</td>\n",
       "      <td>2.03</td>\n",
       "      <td>254.00</td>\n",
       "      <td>83.82</td>\n",
       "      <td>99.06</td>\n",
       "      <td>8.0</td>\n",
       "      <td>10.95</td>\n",
       "      <td>3.28</td>\n",
       "      <td>21.59</td>\n",
       "      <td>22.86</td>\n",
       "      <td>6.0</td>\n",
       "      <td>True</td>\n",
       "    </tr>\n",
       "    <tr>\n",
       "      <th>2</th>\n",
       "      <td>Speedy Claxton</td>\n",
       "      <td>2000.0</td>\n",
       "      <td>2000</td>\n",
       "      <td>20.0</td>\n",
       "      <td>PG</td>\n",
       "      <td>1.79</td>\n",
       "      <td>75.30</td>\n",
       "      <td>1.83</td>\n",
       "      <td>240.03</td>\n",
       "      <td>91.44</td>\n",
       "      <td>107.95</td>\n",
       "      <td>6.0</td>\n",
       "      <td>10.48</td>\n",
       "      <td>3.06</td>\n",
       "      <td>NaN</td>\n",
       "      <td>NaN</td>\n",
       "      <td>NaN</td>\n",
       "      <td>True</td>\n",
       "    </tr>\n",
       "    <tr>\n",
       "      <th>3</th>\n",
       "      <td>Chandler Parsons</td>\n",
       "      <td>2011.0</td>\n",
       "      <td>2011</td>\n",
       "      <td>38.0</td>\n",
       "      <td>SF</td>\n",
       "      <td>2.05</td>\n",
       "      <td>100.33</td>\n",
       "      <td>2.07</td>\n",
       "      <td>265.43</td>\n",
       "      <td>64.77</td>\n",
       "      <td>80.01</td>\n",
       "      <td>4.0</td>\n",
       "      <td>11.05</td>\n",
       "      <td>3.29</td>\n",
       "      <td>20.96</td>\n",
       "      <td>25.40</td>\n",
       "      <td>7.0</td>\n",
       "      <td>True</td>\n",
       "    </tr>\n",
       "    <tr>\n",
       "      <th>4</th>\n",
       "      <td>Mike Taylor</td>\n",
       "      <td>2008.0</td>\n",
       "      <td>2008</td>\n",
       "      <td>55.0</td>\n",
       "      <td>SG-PG</td>\n",
       "      <td>1.85</td>\n",
       "      <td>75.39</td>\n",
       "      <td>2.01</td>\n",
       "      <td>248.92</td>\n",
       "      <td>78.74</td>\n",
       "      <td>99.06</td>\n",
       "      <td>2.0</td>\n",
       "      <td>10.98</td>\n",
       "      <td>3.08</td>\n",
       "      <td>NaN</td>\n",
       "      <td>NaN</td>\n",
       "      <td>3.8</td>\n",
       "      <td>True</td>\n",
       "    </tr>\n",
       "    <tr>\n",
       "      <th>...</th>\n",
       "      <td>...</td>\n",
       "      <td>...</td>\n",
       "      <td>...</td>\n",
       "      <td>...</td>\n",
       "      <td>...</td>\n",
       "      <td>...</td>\n",
       "      <td>...</td>\n",
       "      <td>...</td>\n",
       "      <td>...</td>\n",
       "      <td>...</td>\n",
       "      <td>...</td>\n",
       "      <td>...</td>\n",
       "      <td>...</td>\n",
       "      <td>...</td>\n",
       "      <td>...</td>\n",
       "      <td>...</td>\n",
       "      <td>...</td>\n",
       "      <td>...</td>\n",
       "    </tr>\n",
       "    <tr>\n",
       "      <th>884</th>\n",
       "      <td>Jerry Green</td>\n",
       "      <td>NaN</td>\n",
       "      <td>2001</td>\n",
       "      <td>NaN</td>\n",
       "      <td>PG-SG</td>\n",
       "      <td>1.87</td>\n",
       "      <td>81.19</td>\n",
       "      <td>1.99</td>\n",
       "      <td>251.46</td>\n",
       "      <td>72.39</td>\n",
       "      <td>88.90</td>\n",
       "      <td>13.0</td>\n",
       "      <td>11.70</td>\n",
       "      <td>3.17</td>\n",
       "      <td>NaN</td>\n",
       "      <td>NaN</td>\n",
       "      <td>5.5</td>\n",
       "      <td>False</td>\n",
       "    </tr>\n",
       "    <tr>\n",
       "      <th>885</th>\n",
       "      <td>Kwame Brown</td>\n",
       "      <td>2001.0</td>\n",
       "      <td>2001</td>\n",
       "      <td>1.0</td>\n",
       "      <td>PF-C</td>\n",
       "      <td>2.08</td>\n",
       "      <td>110.22</td>\n",
       "      <td>2.16</td>\n",
       "      <td>274.32</td>\n",
       "      <td>76.20</td>\n",
       "      <td>83.82</td>\n",
       "      <td>17.0</td>\n",
       "      <td>11.59</td>\n",
       "      <td>3.45</td>\n",
       "      <td>NaN</td>\n",
       "      <td>NaN</td>\n",
       "      <td>8.9</td>\n",
       "      <td>True</td>\n",
       "    </tr>\n",
       "    <tr>\n",
       "      <th>886</th>\n",
       "      <td>Reggie Perry</td>\n",
       "      <td>2020.0</td>\n",
       "      <td>2019</td>\n",
       "      <td>57.0</td>\n",
       "      <td>SF-PF</td>\n",
       "      <td>2.03</td>\n",
       "      <td>113.76</td>\n",
       "      <td>2.15</td>\n",
       "      <td>269.24</td>\n",
       "      <td>72.39</td>\n",
       "      <td>80.01</td>\n",
       "      <td>15.0</td>\n",
       "      <td>12.46</td>\n",
       "      <td>3.30</td>\n",
       "      <td>22.86</td>\n",
       "      <td>25.40</td>\n",
       "      <td>6.7</td>\n",
       "      <td>True</td>\n",
       "    </tr>\n",
       "    <tr>\n",
       "      <th>887</th>\n",
       "      <td>Hamidou Diallo</td>\n",
       "      <td>2018.0</td>\n",
       "      <td>2017</td>\n",
       "      <td>45.0</td>\n",
       "      <td>SG-SF</td>\n",
       "      <td>1.92</td>\n",
       "      <td>89.54</td>\n",
       "      <td>2.11</td>\n",
       "      <td>257.81</td>\n",
       "      <td>87.63</td>\n",
       "      <td>113.03</td>\n",
       "      <td>0.0</td>\n",
       "      <td>10.88</td>\n",
       "      <td>3.11</td>\n",
       "      <td>21.59</td>\n",
       "      <td>24.13</td>\n",
       "      <td>5.2</td>\n",
       "      <td>True</td>\n",
       "    </tr>\n",
       "    <tr>\n",
       "      <th>888</th>\n",
       "      <td>Kirk Haston</td>\n",
       "      <td>2001.0</td>\n",
       "      <td>2001</td>\n",
       "      <td>16.0</td>\n",
       "      <td>PF-SF</td>\n",
       "      <td>2.03</td>\n",
       "      <td>109.77</td>\n",
       "      <td>2.14</td>\n",
       "      <td>269.24</td>\n",
       "      <td>68.58</td>\n",
       "      <td>80.01</td>\n",
       "      <td>11.0</td>\n",
       "      <td>12.25</td>\n",
       "      <td>3.35</td>\n",
       "      <td>NaN</td>\n",
       "      <td>NaN</td>\n",
       "      <td>10.5</td>\n",
       "      <td>True</td>\n",
       "    </tr>\n",
       "  </tbody>\n",
       "</table>\n",
       "<p>889 rows × 18 columns</p>\n",
       "</div>"
      ],
      "text/plain": [
       "          player_name  yearDraft  yearCombine  numberPickOverall position  \\\n",
       "0         Nolan Smith     2011.0         2011               21.0       PG   \n",
       "1        Bradley Beal     2012.0         2012                3.0       SG   \n",
       "2      Speedy Claxton     2000.0         2000               20.0       PG   \n",
       "3    Chandler Parsons     2011.0         2011               38.0       SF   \n",
       "4         Mike Taylor     2008.0         2008               55.0    SG-PG   \n",
       "..                ...        ...          ...                ...      ...   \n",
       "884       Jerry Green        NaN         2001                NaN    PG-SG   \n",
       "885       Kwame Brown     2001.0         2001                1.0     PF-C   \n",
       "886      Reggie Perry     2020.0         2019               57.0    SF-PF   \n",
       "887    Hamidou Diallo     2018.0         2017               45.0    SG-SF   \n",
       "888       Kirk Haston     2001.0         2001               16.0    PF-SF   \n",
       "\n",
       "     height  weight  wingspan  reach_standing  standing_vertical  \\\n",
       "0      1.87   85.09      1.97          251.46              72.39   \n",
       "1      1.91   91.53      2.03          254.00              83.82   \n",
       "2      1.79   75.30      1.83          240.03              91.44   \n",
       "3      2.05  100.33      2.07          265.43              64.77   \n",
       "4      1.85   75.39      2.01          248.92              78.74   \n",
       "..      ...     ...       ...             ...                ...   \n",
       "884    1.87   81.19      1.99          251.46              72.39   \n",
       "885    2.08  110.22      2.16          274.32              76.20   \n",
       "886    2.03  113.76      2.15          269.24              72.39   \n",
       "887    1.92   89.54      2.11          257.81              87.63   \n",
       "888    2.03  109.77      2.14          269.24              68.58   \n",
       "\n",
       "     max_vertical  bench_reps  timeLaneAgility  timeThreeQuarterCourtSprint  \\\n",
       "0           86.36         9.0            11.05                         3.17   \n",
       "1           99.06         8.0            10.95                         3.28   \n",
       "2          107.95         6.0            10.48                         3.06   \n",
       "3           80.01         4.0            11.05                         3.29   \n",
       "4           99.06         2.0            10.98                         3.08   \n",
       "..            ...         ...              ...                          ...   \n",
       "884         88.90        13.0            11.70                         3.17   \n",
       "885         83.82        17.0            11.59                         3.45   \n",
       "886         80.01        15.0            12.46                         3.30   \n",
       "887        113.03         0.0            10.88                         3.11   \n",
       "888         80.01        11.0            12.25                         3.35   \n",
       "\n",
       "     lengthHand  widthHand  body_fat_pct  drafted  \n",
       "0         21.59      23.50           5.6     True  \n",
       "1         21.59      22.86           6.0     True  \n",
       "2           NaN        NaN           NaN     True  \n",
       "3         20.96      25.40           7.0     True  \n",
       "4           NaN        NaN           3.8     True  \n",
       "..          ...        ...           ...      ...  \n",
       "884         NaN        NaN           5.5    False  \n",
       "885         NaN        NaN           8.9     True  \n",
       "886       22.86      25.40           6.7     True  \n",
       "887       21.59      24.13           5.2     True  \n",
       "888         NaN        NaN          10.5     True  \n",
       "\n",
       "[889 rows x 18 columns]"
      ]
     },
     "execution_count": 27,
     "metadata": {},
     "output_type": "execute_result"
    }
   ],
   "source": [
    "df2 = pd.read_csv(\"DraftCombine.csv\")\n",
    "df2"
   ]
  },
  {
   "cell_type": "code",
   "execution_count": 28,
   "metadata": {},
   "outputs": [
    {
     "name": "stderr",
     "output_type": "stream",
     "text": [
      "/tmp/ipykernel_76520/247369203.py:2: FutureWarning:\n",
      "\n",
      "The default value of numeric_only in DataFrame.corr is deprecated. In a future version, it will default to False. Select only valid columns or specify the value of numeric_only to silence this warning.\n",
      "\n"
     ]
    },
    {
     "data": {
      "image/png": "[encoded data removed]",
      "text/plain": [
       "<Figure size 640x480 with 2 Axes>"
      ]
     },
     "metadata": {},
     "output_type": "display_data"
    },
    {
     "data": {
      "application/vnd.plotly.v1+json": {
       "config": {
        "plotlyServerURL": "https://plot.ly"
       },
       "data": [
        {
         "name": "PG",
         "type": "box",
         "y": [
          1.87,
          1.79,
          1.84,
          1.82,
          1.75,
          1.85,
          1.85,
          1.8,
          1.89,
          1.78,
          1.89,
          1.86,
          1.87,
          1.91,
          1.85,
          1.88,
          1.78,
          1.9,
          1.77,
          1.88,
          1.75,
          1.75,
          1.88,
          1.84,
          1.77,
          1.85,
          1.82,
          1.87,
          1.82,
          1.89,
          1.92,
          1.81,
          1.8,
          1.94,
          1.87,
          1.85,
          1.87,
          1.83,
          1.9,
          1.91,
          1.83,
          1.82,
          1.89,
          1.85,
          1.83,
          1.9,
          1.77,
          1.84,
          1.87,
          1.82,
          1.85,
          1.8,
          1.83,
          1.88,
          1.84,
          1.85,
          1.78,
          1.85,
          1.9,
          1.82,
          1.88,
          1.87,
          1.89,
          1.75,
          1.89,
          1.85,
          1.85,
          1.86,
          1.89,
          1.81,
          1.86,
          1.95,
          1.88,
          1.84,
          1.84,
          1.79,
          1.85,
          1.85,
          1.9,
          1.87,
          1.82,
          1.85,
          1.93,
          1.82,
          1.82,
          1.77,
          1.93,
          1.94,
          1.89,
          1.88,
          1.8,
          1.91,
          1.88,
          1.8,
          1.77,
          1.87,
          1.85,
          1.8,
          1.84,
          1.82,
          1.73,
          1.72,
          1.84,
          1.78,
          1.85,
          1.77,
          1.79,
          1.75,
          1.84,
          1.9,
          1.82,
          1.89,
          1.84,
          1.77,
          1.83,
          1.94,
          1.95,
          1.8,
          1.81,
          1.84,
          1.86,
          1.85,
          1.81,
          1.86,
          1.84,
          1.83,
          1.84,
          1.89,
          1.84,
          1.85,
          1.85,
          1.8,
          1.84,
          1.84,
          1.75,
          1.91
         ]
        },
        {
         "name": "PG-SG",
         "type": "box",
         "y": [
          1.87,
          1.91,
          1.97,
          1.82,
          1.9,
          1.87,
          1.84,
          1.85,
          1.88,
          1.85,
          1.91,
          1.82,
          1.87,
          1.99,
          1.9,
          1.91,
          1.84,
          1.82,
          1.91,
          1.85,
          1.94,
          1.85,
          1.86,
          1.91,
          1.89,
          1.96,
          1.84,
          1.84,
          1.95,
          1.9,
          1.88,
          1.87,
          1.88,
          1.86,
          1.82,
          1.85,
          1.96,
          1.87
         ]
        },
        {
         "name": "SG-PG",
         "type": "box",
         "y": [
          1.85,
          1.9,
          1.88,
          1.89,
          1.85,
          1.9,
          1.88,
          1.86,
          1.91,
          1.92,
          1.92,
          1.93,
          1.96,
          1.87,
          1.89,
          1.92,
          1.89,
          1.89,
          1.89,
          1.92,
          1.92,
          1.91,
          1.92,
          1.82,
          1.97,
          1.88
         ]
        },
        {
         "name": "SG",
         "type": "box",
         "y": [
          1.91,
          1.95,
          1.97,
          1.87,
          1.88,
          1.92,
          1.9,
          1.96,
          1.92,
          1.94,
          1.87,
          1.92,
          1.96,
          1.92,
          1.94,
          1.9,
          1.89,
          1.88,
          1.93,
          1.89,
          1.9,
          1.94,
          1.92,
          1.9,
          1.93,
          1.93,
          1.91,
          1.94,
          1.93,
          1.94,
          1.88,
          1.92,
          1.92,
          1.93,
          1.88,
          1.92,
          1.95,
          1.92,
          1.9,
          1.96,
          1.96,
          1.92,
          1.9,
          1.88,
          1.91,
          1.9,
          1.94,
          1.92,
          1.96,
          1.94,
          1.94,
          1.97,
          1.9,
          1.89,
          1.93,
          1.91,
          1.94,
          1.94,
          1.93,
          1.9,
          1.94,
          1.96,
          1.94,
          1.95,
          1.87,
          1.96,
          1.94,
          1.89,
          1.96,
          1.9,
          1.94,
          1.96,
          1.86,
          1.9,
          1.94,
          1.89,
          1.9,
          1.96,
          1.85,
          1.92,
          1.93,
          1.9,
          1.87,
          1.92,
          1.9,
          1.96,
          1.94,
          1.89,
          1.9,
          1.94,
          1.96,
          1.9,
          1.92,
          1.89,
          1.92,
          1.93,
          1.87,
          1.89,
          1.94,
          1.9,
          1.9,
          1.94,
          1.94,
          2.01,
          1.9,
          1.93,
          1.9,
          1.9,
          1.96,
          1.91,
          1.96,
          1.85,
          1.93,
          1.9,
          1.93,
          1.92,
          1.9,
          1.9,
          1.95,
          1.9,
          1.89,
          1.96,
          1.91
         ]
        },
        {
         "name": "SG-SF",
         "type": "box",
         "y": [
          1.97,
          1.88,
          1.96,
          1.99,
          1.96,
          1.97,
          1.96,
          1.97,
          2.01,
          1.94,
          1.94,
          1.96,
          1.93,
          1.99,
          1.97,
          1.95,
          1.95,
          1.98,
          1.93,
          1.94,
          1.94,
          1.95,
          1.97,
          1.94,
          1.94,
          1.96,
          1.95,
          1.97,
          1.96,
          1.97,
          1.96,
          2.01,
          1.92,
          1.96,
          1.95,
          1.94,
          1.96,
          1.92,
          1.98,
          1.96,
          1.93,
          1.99,
          1.93,
          1.97,
          1.94,
          1.9,
          1.99,
          1.97,
          1.97,
          1.93,
          1.99,
          1.89,
          2.01,
          1.99,
          1.99,
          1.92,
          1.92
         ]
        },
        {
         "name": "SF-SG",
         "type": "box",
         "y": [
          2.01,
          1.93,
          1.92,
          1.96,
          1.96,
          1.96,
          1.97,
          1.96,
          1.98,
          1.94,
          1.95,
          1.97,
          1.95,
          1.95,
          1.98,
          1.95,
          1.98,
          1.96,
          1.97,
          1.94,
          1.98,
          1.97,
          1.96,
          1.95,
          1.9,
          1.96,
          1.98,
          1.97,
          1.97,
          1.95,
          1.95,
          1.99,
          1.93,
          1.94
         ]
        },
        {
         "name": "SF",
         "type": "box",
         "y": [
          2.05,
          1.98,
          2.01,
          2.02,
          1.98,
          2.01,
          1.95,
          2,
          1.98,
          2.03,
          2.01,
          1.99,
          2.06,
          1.96,
          1.99,
          1.98,
          2,
          1.98,
          2.02,
          1.97,
          1.99,
          1.99,
          1.98,
          1.97,
          2.06,
          2.03,
          2.01,
          2.01,
          1.99,
          1.97,
          1.96,
          1.98,
          1.97,
          2,
          2.01,
          2.04,
          1.95,
          1.93,
          2,
          1.98,
          2,
          2.03,
          2.03,
          2.03,
          1.97,
          2.01,
          1.92,
          1.97,
          1.99,
          1.93,
          2,
          1.99,
          2.03,
          2,
          1.99,
          1.99,
          2.01,
          1.99,
          1.96,
          2,
          1.99,
          1.97,
          1.94,
          1.97,
          2.01,
          2.01,
          2.04,
          1.98,
          2.03,
          1.97,
          2.01,
          2.06,
          1.99,
          1.96,
          1.99,
          1.97,
          1.99,
          2.01,
          2.01,
          2.01,
          2.02,
          2.02,
          1.99,
          2.03,
          1.98,
          2.01,
          1.92,
          1.97,
          1.94,
          2.03,
          1.99,
          1.99,
          2.03,
          1.95,
          1.98,
          2.05,
          1.97,
          1.97,
          1.97,
          2.02,
          1.96,
          2,
          2.01,
          1.99,
          2.01,
          1.97,
          2.01
         ]
        },
        {
         "name": "SF-PF",
         "type": "box",
         "y": [
          1.98,
          2.01,
          1.99,
          2.04,
          2.04,
          1.99,
          2.02,
          2.08,
          1.97,
          1.99,
          2,
          2.04,
          1.97,
          2.02,
          2.01,
          1.99,
          2.06,
          2.04,
          2.01,
          2.06,
          1.94,
          1.98,
          1.99,
          2,
          2.01,
          2.01,
          2.02,
          1.99,
          1.97,
          1.98,
          1.96,
          2.03
         ]
        },
        {
         "name": "PF-SF",
         "type": "box",
         "y": [
          1.98,
          2.01,
          1.98,
          2.04,
          2.06,
          2.06,
          2.09,
          2.06,
          2.07,
          2.04,
          2.03,
          2.01,
          1.99,
          1.97,
          2.06,
          2.04,
          2.02,
          2.04,
          2.01,
          1.99,
          2.01,
          2.07,
          2.04,
          2.02,
          2.04,
          2.03,
          2.01,
          2.05,
          2.01,
          2.06,
          2.04,
          2.03
         ]
        },
        {
         "name": "PF",
         "type": "box",
         "y": [
          2.09,
          1.99,
          2.01,
          2.02,
          1.98,
          2.06,
          1.98,
          1.98,
          2.05,
          2.01,
          2.01,
          1.99,
          1.97,
          2.06,
          2.01,
          2.04,
          2.01,
          2.17,
          2.03,
          2.05,
          2.01,
          2.04,
          2.08,
          2.08,
          2.04,
          2.04,
          2.03,
          2,
          1.99,
          2.05,
          2.02,
          2.04,
          2.04,
          1.99,
          1.99,
          2.04,
          2.09,
          2.04,
          2.01,
          2.01,
          2.01,
          2.04,
          2.01,
          2,
          1.95,
          2.06,
          2.04,
          2.05,
          1.98,
          2.01,
          2.06,
          2.05,
          1.98,
          2.01,
          2.01,
          2.04,
          2.07,
          2.01,
          2.14,
          2.04,
          2.03,
          2.01,
          2,
          2.03,
          2.03,
          2,
          2.05,
          2.05,
          2.03,
          1.98,
          2.06,
          2.01,
          2.05,
          2.03,
          2.02,
          2.01,
          2.02,
          2.01,
          2.03,
          2.04,
          2.01,
          2.01,
          2.06,
          1.99,
          2.06,
          2.02,
          1.99,
          1.99,
          2.01,
          2.04,
          2.02,
          2.12,
          2.04,
          2.04,
          2.03,
          2.05,
          2.05,
          2.07,
          2.04,
          1.97,
          2.04,
          2.01,
          1.99,
          1.98,
          2.08,
          2.01,
          1.97,
          2.02,
          2.07,
          2,
          2.01,
          2.05,
          2.04,
          2.01,
          2.08,
          2.06,
          2.01,
          2.04,
          2.02,
          2.03,
          2.05,
          2.04,
          2.07,
          2.03,
          2.1,
          1.99,
          2.05,
          2.01,
          2.08,
          2.13,
          2.03,
          2.03,
          2.07,
          2.05,
          1.96,
          2.08,
          2.03,
          2.04,
          2.03,
          2.01,
          2.01,
          2.01,
          2.03,
          1.98,
          2.03,
          1.96,
          1.96,
          2.04,
          2.04,
          2.05,
          2.06,
          2.05,
          2.03,
          2.01,
          2.02,
          2.06,
          2.06,
          2.06,
          2.06,
          2.06,
          2
         ]
        },
        {
         "name": "PF-C",
         "type": "box",
         "y": [
          2.06,
          2.04,
          2.1,
          2.07,
          2.06,
          1.99,
          2.08,
          2.07,
          2.05,
          2.03,
          2.03,
          2.04,
          2.1,
          2.07,
          2.06,
          2.09,
          2.04,
          2.1,
          2.03,
          2.17,
          2.11,
          2.08,
          2.04,
          2.03,
          2.04,
          2.12,
          2.08,
          2.02,
          2.06,
          2.03,
          2.06,
          2.06,
          2.01,
          1.99,
          2.08,
          2.03,
          2.04,
          2.03,
          2.04,
          2.04,
          2.04,
          2.04,
          2.06,
          2.02,
          2.02,
          2.03,
          2.04,
          2.11,
          2.01,
          2.08,
          2.08
         ]
        },
        {
         "name": "C-PF",
         "type": "box",
         "y": [
          2.05,
          2.11,
          2.08,
          2.07,
          2.08,
          2.1,
          2.08,
          2.06,
          2.04,
          2.09,
          2.07,
          2.11,
          2.09,
          2.08,
          2.04,
          2.06,
          2.08,
          2.08,
          2.09,
          2.07,
          2.05,
          2.07,
          2.07,
          2.01,
          2.07,
          2.01,
          2.04,
          2.15,
          2.04,
          2.05,
          2.04,
          2.01,
          2.08,
          2.11,
          2.04,
          2.09,
          2.11,
          2.09,
          2.07,
          2.07,
          2.09
         ]
        },
        {
         "name": "C",
         "type": "box",
         "y": [
          2.12,
          2.04,
          1.99,
          2.11,
          2.06,
          2.15,
          2.12,
          2.13,
          2.09,
          2.08,
          2.1,
          2.1,
          2.1,
          2.08,
          2.04,
          2.04,
          2.1,
          2.08,
          2.08,
          2.06,
          2.16,
          2.06,
          2.05,
          2.06,
          2.08,
          2.04,
          2.08,
          2.03,
          2.18,
          2,
          2.1,
          2.06,
          2.15,
          2.08,
          2.06,
          2.07,
          2.11,
          2.01,
          2.08,
          2.1,
          2.08,
          2.13,
          2.1,
          2.13,
          2.05,
          2.13,
          2.11,
          2.1,
          2.09,
          2.05
         ]
        }
       ],
       "layout": {
        "template": {
         "data": {
          "bar": [
           {
            "error_x": {
             "color": "#2a3f5f"
            },
            "error_y": {
             "color": "#2a3f5f"
            },
            "marker": {
             "line": {
              "color": "#E5ECF6",
              "width": 0.5
             },
             "pattern": {
              "fillmode": "overlay",
              "size": 10,
              "solidity": 0.2
             }
            },
            "type": "bar"
           }
          ],
          "barpolar": [
           {
            "marker": {
             "line": {
              "color": "#E5ECF6",
              "width": 0.5
             },
             "pattern": {
              "fillmode": "overlay",
              "size": 10,
              "solidity": 0.2
             }
            },
            "type": "barpolar"
           }
          ],
          "carpet": [
           {
            "aaxis": {
             "endlinecolor": "#2a3f5f",
             "gridcolor": "white",
             "linecolor": "white",
             "minorgridcolor": "white",
             "startlinecolor": "#2a3f5f"
            },
            "baxis": {
             "endlinecolor": "#2a3f5f",
             "gridcolor": "white",
             "linecolor": "white",
             "minorgridcolor": "white",
             "startlinecolor": "#2a3f5f"
            },
            "type": "carpet"
           }
          ],
          "choropleth": [
           {
            "colorbar": {
             "outlinewidth": 0,
             "ticks": ""
            },
            "type": "choropleth"
           }
          ],
          "contour": [
           {
            "colorbar": {
             "outlinewidth": 0,
             "ticks": ""
            },
            "colorscale": [
             [
              0,
              "#0d0887"
             ],
             [
              0.1111111111111111,
              "#46039f"
             ],
             [
              0.2222222222222222,
              "#7201a8"
             ],
             [
              0.3333333333333333,
              "#9c179e"
             ],
             [
              0.4444444444444444,
              "#bd3786"
             ],
             [
              0.5555555555555556,
              "#d8576b"
             ],
             [
              0.6666666666666666,
              "#ed7953"
             ],
             [
              0.7777777777777778,
              "#fb9f3a"
             ],
             [
              0.8888888888888888,
              "#fdca26"
             ],
             [
              1,
              "#f0f921"
             ]
            ],
            "type": "contour"
           }
          ],
          "contourcarpet": [
           {
            "colorbar": {
             "outlinewidth": 0,
             "ticks": ""
            },
            "type": "contourcarpet"
           }
          ],
          "heatmap": [
           {
            "colorbar": {
             "outlinewidth": 0,
             "ticks": ""
            },
            "colorscale": [
             [
              0,
              "#0d0887"
             ],
             [
              0.1111111111111111,
              "#46039f"
             ],
             [
              0.2222222222222222,
              "#7201a8"
             ],
             [
              0.3333333333333333,
              "#9c179e"
             ],
             [
              0.4444444444444444,
              "#bd3786"
             ],
             [
              0.5555555555555556,
              "#d8576b"
             ],
             [
              0.6666666666666666,
              "#ed7953"
             ],
             [
              0.7777777777777778,
              "#fb9f3a"
             ],
             [
              0.8888888888888888,
              "#fdca26"
             ],
             [
              1,
              "#f0f921"
             ]
            ],
            "type": "heatmap"
           }
          ],
          "heatmapgl": [
           {
            "colorbar": {
             "outlinewidth": 0,
             "ticks": ""
            },
            "colorscale": [
             [
              0,
              "#0d0887"
             ],
             [
              0.1111111111111111,
              "#46039f"
             ],
             [
              0.2222222222222222,
              "#7201a8"
             ],
             [
              0.3333333333333333,
              "#9c179e"
             ],
             [
              0.4444444444444444,
              "#bd3786"
             ],
             [
              0.5555555555555556,
              "#d8576b"
             ],
             [
              0.6666666666666666,
              "#ed7953"
             ],
             [
              0.7777777777777778,
              "#fb9f3a"
             ],
             [
              0.8888888888888888,
              "#fdca26"
             ],
             [
              1,
              "#f0f921"
             ]
            ],
            "type": "heatmapgl"
           }
          ],
          "histogram": [
           {
            "marker": {
             "pattern": {
              "fillmode": "overlay",
              "size": 10,
              "solidity": 0.2
             }
            },
            "type": "histogram"
           }
          ],
          "histogram2d": [
           {
            "colorbar": {
             "outlinewidth": 0,
             "ticks": ""
            },
            "colorscale": [
             [
              0,
              "#0d0887"
             ],
             [
              0.1111111111111111,
              "#46039f"
             ],
             [
              0.2222222222222222,
              "#7201a8"
             ],
             [
              0.3333333333333333,
              "#9c179e"
             ],
             [
              0.4444444444444444,
              "#bd3786"
             ],
             [
              0.5555555555555556,
              "#d8576b"
             ],
             [
              0.6666666666666666,
              "#ed7953"
             ],
             [
              0.7777777777777778,
              "#fb9f3a"
             ],
             [
              0.8888888888888888,
              "#fdca26"
             ],
             [
              1,
              "#f0f921"
             ]
            ],
            "type": "histogram2d"
           }
          ],
          "histogram2dcontour": [
           {
            "colorbar": {
             "outlinewidth": 0,
             "ticks": ""
            },
            "colorscale": [
             [
              0,
              "#0d0887"
             ],
             [
              0.1111111111111111,
              "#46039f"
             ],
             [
              0.2222222222222222,
              "#7201a8"
             ],
             [
              0.3333333333333333,
              "#9c179e"
             ],
             [
              0.4444444444444444,
              "#bd3786"
             ],
             [
              0.5555555555555556,
              "#d8576b"
             ],
             [
              0.6666666666666666,
              "#ed7953"
             ],
             [
              0.7777777777777778,
              "#fb9f3a"
             ],
             [
              0.8888888888888888,
              "#fdca26"
             ],
             [
              1,
              "#f0f921"
             ]
            ],
            "type": "histogram2dcontour"
           }
          ],
          "mesh3d": [
           {
            "colorbar": {
             "outlinewidth": 0,
             "ticks": ""
            },
            "type": "mesh3d"
           }
          ],
          "parcoords": [
           {
            "line": {
             "colorbar": {
              "outlinewidth": 0,
              "ticks": ""
             }
            },
            "type": "parcoords"
           }
          ],
          "pie": [
           {
            "automargin": true,
            "type": "pie"
           }
          ],
          "scatter": [
           {
            "fillpattern": {
             "fillmode": "overlay",
             "size": 10,
             "solidity": 0.2
            },
            "type": "scatter"
           }
          ],
          "scatter3d": [
           {
            "line": {
             "colorbar": {
              "outlinewidth": 0,
              "ticks": ""
             }
            },
            "marker": {
             "colorbar": {
              "outlinewidth": 0,
              "ticks": ""
             }
            },
            "type": "scatter3d"
           }
          ],
          "scattercarpet": [
           {
            "marker": {
             "colorbar": {
              "outlinewidth": 0,
              "ticks": ""
             }
            },
            "type": "scattercarpet"
           }
          ],
          "scattergeo": [
           {
            "marker": {
             "colorbar": {
              "outlinewidth": 0,
              "ticks": ""
             }
            },
            "type": "scattergeo"
           }
          ],
          "scattergl": [
           {
            "marker": {
             "colorbar": {
              "outlinewidth": 0,
              "ticks": ""
             }
            },
            "type": "scattergl"
           }
          ],
          "scattermapbox": [
           {
            "marker": {
             "colorbar": {
              "outlinewidth": 0,
              "ticks": ""
             }
            },
            "type": "scattermapbox"
           }
          ],
          "scatterpolar": [
           {
            "marker": {
             "colorbar": {
              "outlinewidth": 0,
              "ticks": ""
             }
            },
            "type": "scatterpolar"
           }
          ],
          "scatterpolargl": [
           {
            "marker": {
             "colorbar": {
              "outlinewidth": 0,
              "ticks": ""
             }
            },
            "type": "scatterpolargl"
           }
          ],
          "scatterternary": [
           {
            "marker": {
             "colorbar": {
              "outlinewidth": 0,
              "ticks": ""
             }
            },
            "type": "scatterternary"
           }
          ],
          "surface": [
           {
            "colorbar": {
             "outlinewidth": 0,
             "ticks": ""
            },
            "colorscale": [
             [
              0,
              "#0d0887"
             ],
             [
              0.1111111111111111,
              "#46039f"
             ],
             [
              0.2222222222222222,
              "#7201a8"
             ],
             [
              0.3333333333333333,
              "#9c179e"
             ],
             [
              0.4444444444444444,
              "#bd3786"
             ],
             [
              0.5555555555555556,
              "#d8576b"
             ],
             [
              0.6666666666666666,
              "#ed7953"
             ],
             [
              0.7777777777777778,
              "#fb9f3a"
             ],
             [
              0.8888888888888888,
              "#fdca26"
             ],
             [
              1,
              "#f0f921"
             ]
            ],
            "type": "surface"
           }
          ],
          "table": [
           {
            "cells": {
             "fill": {
              "color": "#EBF0F8"
             },
             "line": {
              "color": "white"
             }
            },
            "header": {
             "fill": {
              "color": "#C8D4E3"
             },
             "line": {
              "color": "white"
             }
            },
            "type": "table"
           }
          ]
         },
         "layout": {
          "annotationdefaults": {
           "arrowcolor": "#2a3f5f",
           "arrowhead": 0,
           "arrowwidth": 1
          },
          "autotypenumbers": "strict",
          "coloraxis": {
           "colorbar": {
            "outlinewidth": 0,
            "ticks": ""
           }
          },
          "colorscale": {
           "diverging": [
            [
             0,
             "#8e0152"
            ],
            [
             0.1,
             "#c51b7d"
            ],
            [
             0.2,
             "#de77ae"
            ],
            [
             0.3,
             "#f1b6da"
            ],
            [
             0.4,
             "#fde0ef"
            ],
            [
             0.5,
             "#f7f7f7"
            ],
            [
             0.6,
             "#e6f5d0"
            ],
            [
             0.7,
             "#b8e186"
            ],
            [
             0.8,
             "#7fbc41"
            ],
            [
             0.9,
             "#4d9221"
            ],
            [
             1,
             "#276419"
            ]
           ],
           "sequential": [
            [
             0,
             "#0d0887"
            ],
            [
             0.1111111111111111,
             "#46039f"
            ],
            [
             0.2222222222222222,
             "#7201a8"
            ],
            [
             0.3333333333333333,
             "#9c179e"
            ],
            [
             0.4444444444444444,
             "#bd3786"
            ],
            [
             0.5555555555555556,
             "#d8576b"
            ],
            [
             0.6666666666666666,
             "#ed7953"
            ],
            [
             0.7777777777777778,
             "#fb9f3a"
            ],
            [
             0.8888888888888888,
             "#fdca26"
            ],
            [
             1,
             "#f0f921"
            ]
           ],
           "sequentialminus": [
            [
             0,
             "#0d0887"
            ],
            [
             0.1111111111111111,
             "#46039f"
            ],
            [
             0.2222222222222222,
             "#7201a8"
            ],
            [
             0.3333333333333333,
             "#9c179e"
            ],
            [
             0.4444444444444444,
             "#bd3786"
            ],
            [
             0.5555555555555556,
             "#d8576b"
            ],
            [
             0.6666666666666666,
             "#ed7953"
            ],
            [
             0.7777777777777778,
             "#fb9f3a"
            ],
            [
             0.8888888888888888,
             "#fdca26"
            ],
            [
             1,
             "#f0f921"
            ]
           ]
          },
          "colorway": [
           "#636efa",
           "#EF553B",
           "#00cc96",
           "#ab63fa",
           "#FFA15A",
           "#19d3f3",
           "#FF6692",
           "#B6E880",
           "#FF97FF",
           "#FECB52"
          ],
          "font": {
           "color": "#2a3f5f"
          },
          "geo": {
           "bgcolor": "white",
           "lakecolor": "white",
           "landcolor": "#E5ECF6",
           "showlakes": true,
           "showland": true,
           "subunitcolor": "white"
          },
          "hoverlabel": {
           "align": "left"
          },
          "hovermode": "closest",
          "mapbox": {
           "style": "light"
          },
          "paper_bgcolor": "white",
          "plot_bgcolor": "#E5ECF6",
          "polar": {
           "angularaxis": {
            "gridcolor": "white",
            "linecolor": "white",
            "ticks": ""
           },
           "bgcolor": "#E5ECF6",
           "radialaxis": {
            "gridcolor": "white",
            "linecolor": "white",
            "ticks": ""
           }
          },
          "scene": {
           "xaxis": {
            "backgroundcolor": "#E5ECF6",
            "gridcolor": "white",
            "gridwidth": 2,
            "linecolor": "white",
            "showbackground": true,
            "ticks": "",
            "zerolinecolor": "white"
           },
           "yaxis": {
            "backgroundcolor": "#E5ECF6",
            "gridcolor": "white",
            "gridwidth": 2,
            "linecolor": "white",
            "showbackground": true,
            "ticks": "",
            "zerolinecolor": "white"
           },
           "zaxis": {
            "backgroundcolor": "#E5ECF6",
            "gridcolor": "white",
            "gridwidth": 2,
            "linecolor": "white",
            "showbackground": true,
            "ticks": "",
            "zerolinecolor": "white"
           }
          },
          "shapedefaults": {
           "line": {
            "color": "#2a3f5f"
           }
          },
          "ternary": {
           "aaxis": {
            "gridcolor": "white",
            "linecolor": "white",
            "ticks": ""
           },
           "baxis": {
            "gridcolor": "white",
            "linecolor": "white",
            "ticks": ""
           },
           "bgcolor": "#E5ECF6",
           "caxis": {
            "gridcolor": "white",
            "linecolor": "white",
            "ticks": ""
           }
          },
          "title": {
           "x": 0.05
          },
          "xaxis": {
           "automargin": true,
           "gridcolor": "white",
           "linecolor": "white",
           "ticks": "",
           "title": {
            "standoff": 15
           },
           "zerolinecolor": "white",
           "zerolinewidth": 2
          },
          "yaxis": {
           "automargin": true,
           "gridcolor": "white",
           "linecolor": "white",
           "ticks": "",
           "title": {
            "standoff": 15
           },
           "zerolinecolor": "white",
           "zerolinewidth": 2
          }
         }
        },
        "title": {
         "text": "Distribución de Altura por Posición"
        }
       }
      }
     },
     "metadata": {},
     "output_type": "display_data"
    }
   ],
   "source": [
    "# Mapa de Calor\n",
    "corr_matrix = df[['height', \"position\", 'weight', 'wingspan', 'reach_standing', \"body_fat_pct\"]].corr()\n",
    "sns.heatmap(corr_matrix, annot=True, cmap='coolwarm')\n",
    "plt.title('Mapa de Calor de Correlaciones')\n",
    "plt.show()\n",
    "\n",
    "\n",
    "# Gráfico de Caja\n",
    "fig_box = go.Figure()\n",
    "positions = ['PG', \"PG-SG\", \"SG-PG\", 'SG', \"SG-SF\", \"SF-SG\", 'SF', \"SF-PF\", \"PF-SF\", 'PF', \"PF-C\", \"C-PF\", 'C']\n",
    "for position in positions:\n",
    "    fig_box.add_trace(go.Box(y=df[df['position'] == position]['height'], name=position))\n",
    "fig_box.update_layout(title='Distribución de Altura por Posición')\n",
    "fig_box"
   ]
  },
  {
   "cell_type": "code",
   "execution_count": null,
   "metadata": {},
   "outputs": [],
   "source": []
  }
 ],
 "metadata": {
  "kernelspec": {
   "display_name": "Python 3",
   "language": "python",
   "name": "python3"
  },
  "language_info": {
   "codemirror_mode": {
    "name": "ipython",
    "version": 3
   },
   "file_extension": ".py",
   "mimetype": "text/x-python",
   "name": "python",
   "nbconvert_exporter": "python",
   "pygments_lexer": "ipython3",
   "version": "3.11.6"
  }
 },
 "nbformat": 4,
 "nbformat_minor": 2
}
