{
 "cells": [
  {
   "cell_type": "code",
   "execution_count": 7,
   "metadata": {},
   "outputs": [
    {
     "data": {
      "application/vnd.plotly.v1+json": {
       "config": {
        "plotlyServerURL": "https://plot.ly"
       },
       "data": [
        {
         "name": "PG",
         "type": "box",
         "y": [
          186.7,
          179.1,
          184.2,
          181.6,
          174.6,
          185.4,
          185.4,
          179.7,
          189.2,
          178.4,
          189.2,
          186.1,
          186.7,
          191.1,
          185.4,
          188,
          177.8,
          189.9,
          177.2,
          188,
          174.6,
          175.3,
          188,
          184.2,
          177.2,
          185.4,
          181.6,
          186.7,
          181.6,
          189.2,
          191.8,
          181,
          180.3,
          193.7,
          186.7,
          185.4,
          186.7,
          182.9,
          190.5,
          191.1,
          182.9,
          182.2,
          189.2,
          185.4,
          182.9,
          190.5,
          176.5,
          183.5,
          186.7,
          182.2,
          185.4,
          180.3,
          182.9,
          188,
          184.2,
          185.4,
          177.8,
          185.4,
          189.9,
          182.2,
          188,
          186.7,
          188.6,
          175.3,
          189.2,
          185.4,
          184.8,
          186.1,
          189.2,
          181,
          186.1,
          194.9,
          188,
          183.5,
          183.5,
          179.1,
          185.4,
          184.8,
          190.5,
          187.3,
          181.6,
          184.8,
          193,
          181.6,
          182.2,
          176.5,
          193,
          194.3,
          188.6,
          188,
          179.7,
          191.1,
          188,
          180.3,
          177.2,
          187.3,
          185.4,
          180.3,
          183.5,
          181.6,
          173.4,
          172.1,
          184.2,
          178.4,
          185.4,
          176.5,
          179.1,
          174.6,
          183.5,
          189.9,
          182.2,
          188.6,
          183.5,
          177.2,
          182.9,
          193.7,
          194.9,
          180.3,
          181,
          183.5,
          186.1,
          185.4,
          181,
          186.1,
          183.5,
          182.9,
          183.5,
          189.2,
          184.2,
          185.4,
          184.8,
          179.7,
          183.5,
          184.2,
          175.3,
          191.1
         ]
        },
        {
         "name": "PG-SG",
         "type": "box",
         "y": [
          187.3,
          191.1,
          196.8,
          182.2,
          189.9,
          186.7,
          184.2,
          184.8,
          188,
          185.4,
          191.1,
          181.6,
          187.3,
          198.8,
          190.5,
          191.1,
          183.5,
          182.2,
          191.1,
          184.8,
          193.7,
          185.4,
          186.1,
          191.1,
          188.6,
          196.2,
          184.2,
          184.2,
          194.9,
          189.9,
          188,
          186.7,
          188,
          186.1,
          182.2,
          184.8,
          196.2,
          186.7
         ]
        },
        {
         "name": "SG-PG",
         "type": "box",
         "y": [
          184.8,
          190.5,
          188,
          188.6,
          184.8,
          190.5,
          188,
          186.1,
          191.1,
          191.8,
          192.4,
          193,
          196.2,
          187.3,
          189.2,
          192.4,
          188.6,
          189.2,
          188.6,
          191.8,
          191.8,
          191.1,
          192.4,
          182.2,
          197.5,
          188
         ]
        },
        {
         "name": "SG",
         "type": "box",
         "y": [
          191.1,
          194.9,
          197.5,
          186.7,
          188,
          191.8,
          190.5,
          196.2,
          191.8,
          193.7,
          186.7,
          191.8,
          196.2,
          192.4,
          193.7,
          190.5,
          188.6,
          188,
          193,
          189.2,
          190.5,
          193.7,
          191.8,
          190.5,
          193,
          193,
          191.1,
          194.3,
          193,
          194.3,
          188,
          192.4,
          192.4,
          193,
          188,
          191.8,
          194.9,
          191.8,
          190.5,
          195.6,
          195.6,
          192.4,
          190.5,
          188,
          191.1,
          190.5,
          193.7,
          191.8,
          195.6,
          193.7,
          193.7,
          196.8,
          189.9,
          188.6,
          193,
          191.1,
          194.3,
          194.3,
          193,
          190.5,
          193.7,
          196.2,
          194.3,
          194.9,
          187.3,
          196.2,
          194.3,
          189.2,
          195.6,
          189.9,
          193.7,
          196.2,
          186.1,
          190.5,
          194.3,
          189.2,
          189.9,
          196.2,
          185.4,
          191.8,
          193,
          190.5,
          186.7,
          191.8,
          189.9,
          195.6,
          194.3,
          189.2,
          189.9,
          193.7,
          195.6,
          189.9,
          192.4,
          189.2,
          191.8,
          193,
          186.7,
          188.6,
          194.3,
          190.5,
          190.5,
          193.7,
          194.3,
          200.7,
          190.5,
          193,
          190.5,
          190.5,
          195.6,
          191.1,
          195.6,
          184.8,
          193,
          189.9,
          193,
          191.8,
          190.5,
          189.9,
          194.9,
          190.5,
          188.6,
          195.6,
          191.1
         ]
        },
        {
         "name": "SG-SF",
         "type": "box",
         "y": [
          196.8,
          188,
          196.2,
          199.4,
          195.6,
          196.8,
          195.6,
          197.5,
          201.3,
          193.7,
          194.3,
          195.6,
          193,
          199.4,
          196.8,
          194.9,
          194.9,
          198.1,
          193,
          194.3,
          193.7,
          194.9,
          196.8,
          193.7,
          194.3,
          195.6,
          194.9,
          197.5,
          196.2,
          196.8,
          195.6,
          200.7,
          192.4,
          195.6,
          194.9,
          194.3,
          196.2,
          191.8,
          198.1,
          195.6,
          193,
          199.4,
          193,
          196.8,
          194.3,
          189.9,
          198.8,
          197.5,
          196.8,
          193,
          198.8,
          189.2,
          200.7,
          198.8,
          199.4,
          192.4,
          192.4
         ]
        },
        {
         "name": "SF-SG",
         "type": "box",
         "y": [
          200.7,
          193,
          192.4,
          196.2,
          195.6,
          196.2,
          197.5,
          195.6,
          198.1,
          194.3,
          194.9,
          197.5,
          194.9,
          194.9,
          198.1,
          194.9,
          198.1,
          196.2,
          197.5,
          194.3,
          198.1,
          197.5,
          196.2,
          194.9,
          189.9,
          196.2,
          198.1,
          197.5,
          196.8,
          194.9,
          194.9,
          198.8,
          193,
          194.3
         ]
        },
        {
         "name": "SF",
         "type": "box",
         "y": [
          205.1,
          198.1,
          201.3,
          201.9,
          198.1,
          201.3,
          194.9,
          200,
          198.1,
          202.6,
          200.7,
          198.8,
          205.7,
          196.2,
          199.4,
          198.1,
          200,
          198.1,
          201.9,
          196.8,
          198.8,
          198.8,
          198.1,
          197.5,
          206.4,
          202.6,
          200.7,
          200.7,
          198.8,
          197.5,
          196.2,
          198.1,
          197.5,
          200,
          200.7,
          203.8,
          194.9,
          193,
          200,
          198.1,
          200,
          202.6,
          202.6,
          203.2,
          196.8,
          201.3,
          192.4,
          197.5,
          199.4,
          193,
          200,
          199.4,
          203.2,
          200,
          199.4,
          198.8,
          201.3,
          199.4,
          196.2,
          200,
          198.8,
          197.5,
          194.3,
          197.5,
          201.3,
          201.3,
          203.8,
          198.1,
          203.2,
          196.8,
          201.3,
          206.4,
          199.4,
          196.2,
          199.4,
          197.5,
          198.8,
          201.3,
          201.3,
          200.7,
          201.9,
          201.9,
          198.8,
          202.6,
          198.1,
          200.7,
          191.8,
          196.8,
          194.3,
          203.2,
          199.4,
          198.8,
          202.6,
          194.9,
          198.1,
          205.1,
          197.5,
          196.8,
          197.5,
          201.9,
          195.6,
          200,
          200.7,
          199.4,
          201.3,
          196.8,
          201.3
         ]
        },
        {
         "name": "SF-PF",
         "type": "box",
         "y": [
          198.1,
          200.7,
          199.4,
          203.8,
          203.8,
          199.4,
          201.9,
          207.6,
          197.5,
          198.8,
          200,
          203.8,
          197.5,
          201.9,
          201.3,
          199.4,
          205.7,
          204.5,
          200.7,
          206.4,
          194.3,
          198.1,
          198.8,
          200,
          200.7,
          200.7,
          201.9,
          198.8,
          196.8,
          198.1,
          196.2,
          203.2
         ]
        },
        {
         "name": "PF-SF",
         "type": "box",
         "y": [
          198.1,
          200.7,
          198.1,
          203.8,
          205.7,
          206.4,
          208.9,
          205.7,
          207,
          203.8,
          203.2,
          201.3,
          199.4,
          197.5,
          205.7,
          204.5,
          201.9,
          203.8,
          201.3,
          199.4,
          200.7,
          207,
          204.5,
          201.9,
          203.8,
          203.2,
          200.7,
          205.1,
          201.3,
          205.7,
          204.5,
          203.2
         ]
        },
        {
         "name": "PF",
         "type": "box",
         "y": [
          208.9,
          198.8,
          200.7,
          201.9,
          198.1,
          206.4,
          198.1,
          198.1,
          205.1,
          201.3,
          201.3,
          199.4,
          196.8,
          205.7,
          200.7,
          204.5,
          201.3,
          216.5,
          202.6,
          205.1,
          200.7,
          203.8,
          208.3,
          208.3,
          204.5,
          203.8,
          202.6,
          200,
          198.8,
          205.1,
          201.9,
          204.5,
          204.5,
          198.8,
          199.4,
          204.5,
          208.9,
          203.8,
          201.3,
          201.3,
          200.7,
          204.5,
          200.7,
          200,
          194.9,
          205.7,
          204.5,
          205.1,
          198.1,
          200.7,
          205.7,
          205.1,
          198.1,
          201.3,
          200.7,
          203.8,
          207,
          201.3,
          214,
          204.5,
          202.6,
          201.3,
          200,
          203.2,
          203.2,
          200,
          205.1,
          205.1,
          203.2,
          198.1,
          205.7,
          201.3,
          205.1,
          203.2,
          201.9,
          200.7,
          201.9,
          200.7,
          203.2,
          203.8,
          201.3,
          201.3,
          206.4,
          198.8,
          205.7,
          201.9,
          199.4,
          198.8,
          201.3,
          203.8,
          201.9,
          212.1,
          203.8,
          204.5,
          203.2,
          205.1,
          205.1,
          207,
          203.8,
          196.8,
          203.8,
          200.7,
          198.8,
          198.1,
          207.6,
          201.2,
          196.8,
          201.9,
          207,
          200,
          201.3,
          205.1,
          204.5,
          201.3,
          208.3,
          206.4,
          201.3,
          204.5,
          201.9,
          203.2,
          205.1,
          203.8,
          207,
          202.6,
          210.2,
          199.4,
          205.1,
          201.3,
          208.3,
          212.7,
          202.6,
          203.2,
          207,
          205.1,
          195.6,
          208.3,
          203.2,
          203.8,
          202.6,
          200.7,
          200.7,
          200.7,
          203.2,
          198.1,
          202.6,
          196.2,
          195.6,
          204.5,
          203.8,
          205.1,
          206.4,
          205.1,
          203.2,
          201.3,
          201.9,
          205.7,
          205.7,
          205.7,
          205.7,
          206.4,
          200
         ]
        },
        {
         "name": "PF-C",
         "type": "box",
         "y": [
          205.7,
          203.8,
          209.6,
          207,
          205.7,
          198.8,
          207.6,
          207,
          205.1,
          202.6,
          203.2,
          204.5,
          210.2,
          207,
          206.4,
          208.9,
          204.5,
          209.6,
          203.2,
          216.5,
          210.8,
          208.3,
          204.5,
          203.2,
          203.8,
          212.1,
          207.6,
          201.9,
          205.7,
          202.6,
          206.4,
          205.7,
          201.3,
          199.4,
          208.3,
          203.2,
          204.5,
          202.6,
          204.5,
          203.8,
          203.8,
          204.5,
          206.4,
          201.9,
          201.9,
          202.6,
          204.5,
          211.5,
          200.7,
          207.6,
          208.3
         ]
        },
        {
         "name": "C-PF",
         "type": "box",
         "y": [
          205.1,
          210.8,
          208.3,
          207,
          208.3,
          209.6,
          208.3,
          205.7,
          204.5,
          208.9,
          207,
          210.8,
          208.9,
          207.6,
          203.8,
          206.4,
          207.6,
          208.3,
          208.9,
          207,
          205.1,
          207,
          207,
          201.3,
          207,
          200.7,
          204.5,
          215.3,
          203.8,
          205.1,
          204.5,
          201.3,
          208.3,
          210.8,
          203.8,
          208.9,
          211.5,
          208.9,
          207,
          207,
          208.9
         ]
        },
        {
         "name": "C",
         "type": "box",
         "y": [
          212.1,
          204.5,
          199.4,
          210.8,
          205.7,
          215.3,
          212.1,
          212.7,
          208.9,
          207.6,
          210.2,
          209.6,
          209.6,
          208.3,
          204.5,
          204.5,
          210.2,
          208.3,
          207.6,
          205.7,
          215.9,
          205.7,
          205.1,
          205.7,
          208.3,
          203.8,
          208.3,
          203.2,
          217.8,
          200,
          209.6,
          206.4,
          214.6,
          208.3,
          206.4,
          207,
          211.5,
          200.7,
          207.6,
          210.2,
          208.3,
          212.7,
          209.6,
          213.4,
          205.1,
          212.7,
          211.5,
          210.2,
          208.9,
          205.1
         ]
        }
       ],
       "layout": {
        "template": {
         "data": {
          "bar": [
           {
            "error_x": {
             "color": "#2a3f5f"
            },
            "error_y": {
             "color": "#2a3f5f"
            },
            "marker": {
             "line": {
              "color": "#E5ECF6",
              "width": 0.5
             },
             "pattern": {
              "fillmode": "overlay",
              "size": 10,
              "solidity": 0.2
             }
            },
            "type": "bar"
           }
          ],
          "barpolar": [
           {
            "marker": {
             "line": {
              "color": "#E5ECF6",
              "width": 0.5
             },
             "pattern": {
              "fillmode": "overlay",
              "size": 10,
              "solidity": 0.2
             }
            },
            "type": "barpolar"
           }
          ],
          "carpet": [
           {
            "aaxis": {
             "endlinecolor": "#2a3f5f",
             "gridcolor": "white",
             "linecolor": "white",
             "minorgridcolor": "white",
             "startlinecolor": "#2a3f5f"
            },
            "baxis": {
             "endlinecolor": "#2a3f5f",
             "gridcolor": "white",
             "linecolor": "white",
             "minorgridcolor": "white",
             "startlinecolor": "#2a3f5f"
            },
            "type": "carpet"
           }
          ],
          "choropleth": [
           {
            "colorbar": {
             "outlinewidth": 0,
             "ticks": ""
            },
            "type": "choropleth"
           }
          ],
          "contour": [
           {
            "colorbar": {
             "outlinewidth": 0,
             "ticks": ""
            },
            "colorscale": [
             [
              0,
              "#0d0887"
             ],
             [
              0.1111111111111111,
              "#46039f"
             ],
             [
              0.2222222222222222,
              "#7201a8"
             ],
             [
              0.3333333333333333,
              "#9c179e"
             ],
             [
              0.4444444444444444,
              "#bd3786"
             ],
             [
              0.5555555555555556,
              "#d8576b"
             ],
             [
              0.6666666666666666,
              "#ed7953"
             ],
             [
              0.7777777777777778,
              "#fb9f3a"
             ],
             [
              0.8888888888888888,
              "#fdca26"
             ],
             [
              1,
              "#f0f921"
             ]
            ],
            "type": "contour"
           }
          ],
          "contourcarpet": [
           {
            "colorbar": {
             "outlinewidth": 0,
             "ticks": ""
            },
            "type": "contourcarpet"
           }
          ],
          "heatmap": [
           {
            "colorbar": {
             "outlinewidth": 0,
             "ticks": ""
            },
            "colorscale": [
             [
              0,
              "#0d0887"
             ],
             [
              0.1111111111111111,
              "#46039f"
             ],
             [
              0.2222222222222222,
              "#7201a8"
             ],
             [
              0.3333333333333333,
              "#9c179e"
             ],
             [
              0.4444444444444444,
              "#bd3786"
             ],
             [
              0.5555555555555556,
              "#d8576b"
             ],
             [
              0.6666666666666666,
              "#ed7953"
             ],
             [
              0.7777777777777778,
              "#fb9f3a"
             ],
             [
              0.8888888888888888,
              "#fdca26"
             ],
             [
              1,
              "#f0f921"
             ]
            ],
            "type": "heatmap"
           }
          ],
          "heatmapgl": [
           {
            "colorbar": {
             "outlinewidth": 0,
             "ticks": ""
            },
            "colorscale": [
             [
              0,
              "#0d0887"
             ],
             [
              0.1111111111111111,
              "#46039f"
             ],
             [
              0.2222222222222222,
              "#7201a8"
             ],
             [
              0.3333333333333333,
              "#9c179e"
             ],
             [
              0.4444444444444444,
              "#bd3786"
             ],
             [
              0.5555555555555556,
              "#d8576b"
             ],
             [
              0.6666666666666666,
              "#ed7953"
             ],
             [
              0.7777777777777778,
              "#fb9f3a"
             ],
             [
              0.8888888888888888,
              "#fdca26"
             ],
             [
              1,
              "#f0f921"
             ]
            ],
            "type": "heatmapgl"
           }
          ],
          "histogram": [
           {
            "marker": {
             "pattern": {
              "fillmode": "overlay",
              "size": 10,
              "solidity": 0.2
             }
            },
            "type": "histogram"
           }
          ],
          "histogram2d": [
           {
            "colorbar": {
             "outlinewidth": 0,
             "ticks": ""
            },
            "colorscale": [
             [
              0,
              "#0d0887"
             ],
             [
              0.1111111111111111,
              "#46039f"
             ],
             [
              0.2222222222222222,
              "#7201a8"
             ],
             [
              0.3333333333333333,
              "#9c179e"
             ],
             [
              0.4444444444444444,
              "#bd3786"
             ],
             [
              0.5555555555555556,
              "#d8576b"
             ],
             [
              0.6666666666666666,
              "#ed7953"
             ],
             [
              0.7777777777777778,
              "#fb9f3a"
             ],
             [
              0.8888888888888888,
              "#fdca26"
             ],
             [
              1,
              "#f0f921"
             ]
            ],
            "type": "histogram2d"
           }
          ],
          "histogram2dcontour": [
           {
            "colorbar": {
             "outlinewidth": 0,
             "ticks": ""
            },
            "colorscale": [
             [
              0,
              "#0d0887"
             ],
             [
              0.1111111111111111,
              "#46039f"
             ],
             [
              0.2222222222222222,
              "#7201a8"
             ],
             [
              0.3333333333333333,
              "#9c179e"
             ],
             [
              0.4444444444444444,
              "#bd3786"
             ],
             [
              0.5555555555555556,
              "#d8576b"
             ],
             [
              0.6666666666666666,
              "#ed7953"
             ],
             [
              0.7777777777777778,
              "#fb9f3a"
             ],
             [
              0.8888888888888888,
              "#fdca26"
             ],
             [
              1,
              "#f0f921"
             ]
            ],
            "type": "histogram2dcontour"
           }
          ],
          "mesh3d": [
           {
            "colorbar": {
             "outlinewidth": 0,
             "ticks": ""
            },
            "type": "mesh3d"
           }
          ],
          "parcoords": [
           {
            "line": {
             "colorbar": {
              "outlinewidth": 0,
              "ticks": ""
             }
            },
            "type": "parcoords"
           }
          ],
          "pie": [
           {
            "automargin": true,
            "type": "pie"
           }
          ],
          "scatter": [
           {
            "fillpattern": {
             "fillmode": "overlay",
             "size": 10,
             "solidity": 0.2
            },
            "type": "scatter"
           }
          ],
          "scatter3d": [
           {
            "line": {
             "colorbar": {
              "outlinewidth": 0,
              "ticks": ""
             }
            },
            "marker": {
             "colorbar": {
              "outlinewidth": 0,
              "ticks": ""
             }
            },
            "type": "scatter3d"
           }
          ],
          "scattercarpet": [
           {
            "marker": {
             "colorbar": {
              "outlinewidth": 0,
              "ticks": ""
             }
            },
            "type": "scattercarpet"
           }
          ],
          "scattergeo": [
           {
            "marker": {
             "colorbar": {
              "outlinewidth": 0,
              "ticks": ""
             }
            },
            "type": "scattergeo"
           }
          ],
          "scattergl": [
           {
            "marker": {
             "colorbar": {
              "outlinewidth": 0,
              "ticks": ""
             }
            },
            "type": "scattergl"
           }
          ],
          "scattermapbox": [
           {
            "marker": {
             "colorbar": {
              "outlinewidth": 0,
              "ticks": ""
             }
            },
            "type": "scattermapbox"
           }
          ],
          "scatterpolar": [
           {
            "marker": {
             "colorbar": {
              "outlinewidth": 0,
              "ticks": ""
             }
            },
            "type": "scatterpolar"
           }
          ],
          "scatterpolargl": [
           {
            "marker": {
             "colorbar": {
              "outlinewidth": 0,
              "ticks": ""
             }
            },
            "type": "scatterpolargl"
           }
          ],
          "scatterternary": [
           {
            "marker": {
             "colorbar": {
              "outlinewidth": 0,
              "ticks": ""
             }
            },
            "type": "scatterternary"
           }
          ],
          "surface": [
           {
            "colorbar": {
             "outlinewidth": 0,
             "ticks": ""
            },
            "colorscale": [
             [
              0,
              "#0d0887"
             ],
             [
              0.1111111111111111,
              "#46039f"
             ],
             [
              0.2222222222222222,
              "#7201a8"
             ],
             [
              0.3333333333333333,
              "#9c179e"
             ],
             [
              0.4444444444444444,
              "#bd3786"
             ],
             [
              0.5555555555555556,
              "#d8576b"
             ],
             [
              0.6666666666666666,
              "#ed7953"
             ],
             [
              0.7777777777777778,
              "#fb9f3a"
             ],
             [
              0.8888888888888888,
              "#fdca26"
             ],
             [
              1,
              "#f0f921"
             ]
            ],
            "type": "surface"
           }
          ],
          "table": [
           {
            "cells": {
             "fill": {
              "color": "#EBF0F8"
             },
             "line": {
              "color": "white"
             }
            },
            "header": {
             "fill": {
              "color": "#C8D4E3"
             },
             "line": {
              "color": "white"
             }
            },
            "type": "table"
           }
          ]
         },
         "layout": {
          "annotationdefaults": {
           "arrowcolor": "#2a3f5f",
           "arrowhead": 0,
           "arrowwidth": 1
          },
          "autotypenumbers": "strict",
          "coloraxis": {
           "colorbar": {
            "outlinewidth": 0,
            "ticks": ""
           }
          },
          "colorscale": {
           "diverging": [
            [
             0,
             "#8e0152"
            ],
            [
             0.1,
             "#c51b7d"
            ],
            [
             0.2,
             "#de77ae"
            ],
            [
             0.3,
             "#f1b6da"
            ],
            [
             0.4,
             "#fde0ef"
            ],
            [
             0.5,
             "#f7f7f7"
            ],
            [
             0.6,
             "#e6f5d0"
            ],
            [
             0.7,
             "#b8e186"
            ],
            [
             0.8,
             "#7fbc41"
            ],
            [
             0.9,
             "#4d9221"
            ],
            [
             1,
             "#276419"
            ]
           ],
           "sequential": [
            [
             0,
             "#0d0887"
            ],
            [
             0.1111111111111111,
             "#46039f"
            ],
            [
             0.2222222222222222,
             "#7201a8"
            ],
            [
             0.3333333333333333,
             "#9c179e"
            ],
            [
             0.4444444444444444,
             "#bd3786"
            ],
            [
             0.5555555555555556,
             "#d8576b"
            ],
            [
             0.6666666666666666,
             "#ed7953"
            ],
            [
             0.7777777777777778,
             "#fb9f3a"
            ],
            [
             0.8888888888888888,
             "#fdca26"
            ],
            [
             1,
             "#f0f921"
            ]
           ],
           "sequentialminus": [
            [
             0,
             "#0d0887"
            ],
            [
             0.1111111111111111,
             "#46039f"
            ],
            [
             0.2222222222222222,
             "#7201a8"
            ],
            [
             0.3333333333333333,
             "#9c179e"
            ],
            [
             0.4444444444444444,
             "#bd3786"
            ],
            [
             0.5555555555555556,
             "#d8576b"
            ],
            [
             0.6666666666666666,
             "#ed7953"
            ],
            [
             0.7777777777777778,
             "#fb9f3a"
            ],
            [
             0.8888888888888888,
             "#fdca26"
            ],
            [
             1,
             "#f0f921"
            ]
           ]
          },
          "colorway": [
           "#636efa",
           "#EF553B",
           "#00cc96",
           "#ab63fa",
           "#FFA15A",
           "#19d3f3",
           "#FF6692",
           "#B6E880",
           "#FF97FF",
           "#FECB52"
          ],
          "font": {
           "color": "#2a3f5f"
          },
          "geo": {
           "bgcolor": "white",
           "lakecolor": "white",
           "landcolor": "#E5ECF6",
           "showlakes": true,
           "showland": true,
           "subunitcolor": "white"
          },
          "hoverlabel": {
           "align": "left"
          },
          "hovermode": "closest",
          "mapbox": {
           "style": "light"
          },
          "paper_bgcolor": "white",
          "plot_bgcolor": "#E5ECF6",
          "polar": {
           "angularaxis": {
            "gridcolor": "white",
            "linecolor": "white",
            "ticks": ""
           },
           "bgcolor": "#E5ECF6",
           "radialaxis": {
            "gridcolor": "white",
            "linecolor": "white",
            "ticks": ""
           }
          },
          "scene": {
           "xaxis": {
            "backgroundcolor": "#E5ECF6",
            "gridcolor": "white",
            "gridwidth": 2,
            "linecolor": "white",
            "showbackground": true,
            "ticks": "",
            "zerolinecolor": "white"
           },
           "yaxis": {
            "backgroundcolor": "#E5ECF6",
            "gridcolor": "white",
            "gridwidth": 2,
            "linecolor": "white",
            "showbackground": true,
            "ticks": "",
            "zerolinecolor": "white"
           },
           "zaxis": {
            "backgroundcolor": "#E5ECF6",
            "gridcolor": "white",
            "gridwidth": 2,
            "linecolor": "white",
            "showbackground": true,
            "ticks": "",
            "zerolinecolor": "white"
           }
          },
          "shapedefaults": {
           "line": {
            "color": "#2a3f5f"
           }
          },
          "ternary": {
           "aaxis": {
            "gridcolor": "white",
            "linecolor": "white",
            "ticks": ""
           },
           "baxis": {
            "gridcolor": "white",
            "linecolor": "white",
            "ticks": ""
           },
           "bgcolor": "#E5ECF6",
           "caxis": {
            "gridcolor": "white",
            "linecolor": "white",
            "ticks": ""
           }
          },
          "title": {
           "x": 0.05
          },
          "xaxis": {
           "automargin": true,
           "gridcolor": "white",
           "linecolor": "white",
           "ticks": "",
           "title": {
            "standoff": 15
           },
           "zerolinecolor": "white",
           "zerolinewidth": 2
          },
          "yaxis": {
           "automargin": true,
           "gridcolor": "white",
           "linecolor": "white",
           "ticks": "",
           "title": {
            "standoff": 15
           },
           "zerolinecolor": "white",
           "zerolinewidth": 2
          }
         }
        },
        "title": {
         "text": "Distribución de Altura por Posición"
        }
       }
      }
     },
     "metadata": {},
     "output_type": "display_data"
    }
   ],
   "source": [
    "import pandas as pd\n",
    "import seaborn as sns\n",
    "import matplotlib.pyplot as plt\n",
    "import plotly.graph_objects as go\n",
    "# Cargar datos\n",
    "df = pd.read_csv('DraftCombine.csv')\n",
    "\n",
    "# Gráfico de Caja\n",
    "fig_box = go.Figure()\n",
    "positions = ['PG', \"PG-SG\", \"SG-PG\", 'SG', \"SG-SF\", \"SF-SG\", 'SF', \"SF-PF\", \"PF-SF\", 'PF', \"PF-C\", \"C-PF\", 'C']\n",
    "filtered_df = df[df['position'].isin(positions)][['position', 'height', \"timeLaneAgility\", \"wingspan\"]]\n",
    "\n",
    "filtered_df.to_json('filtered_data.json', orient='records')\n",
    "\n",
    "for position in positions:\n",
    "    fig_box.add_trace(go.Box(y=df[df['position'] == position]['height'], name=position))\n",
    "fig_box.update_layout(title='Distribución de Altura por Posición')\n",
    "fig_box\n"
   ]
  },
  {
   "cell_type": "code",
   "execution_count": 8,
   "metadata": {},
   "outputs": [
    {
     "name": "stderr",
     "output_type": "stream",
     "text": [
      "/tmp/ipykernel_13239/1062327901.py:3: FutureWarning:\n",
      "\n",
      "The default value of numeric_only in DataFrame.corr is deprecated. In a future version, it will default to False. Select only valid columns or specify the value of numeric_only to silence this warning.\n",
      "\n"
     ]
    },
    {
     "data": {
      "image/png": "[encoded data removed]",
      "text/plain": [
       "<Figure size 1000x800 with 2 Axes>"
      ]
     },
     "metadata": {},
     "output_type": "display_data"
    }
   ],
   "source": [
    "# Mapa de Calor\n",
    "plt.figure(figsize=(10, 8))\n",
    "corr_matrix = df[['height', \"position\", 'weight', 'wingspan', 'reach_standing', \"body_fat_pct\"]].corr()\n",
    "sns.heatmap(corr_matrix, annot=True, cmap='coolwarm')\n",
    "plt.title('Mapa de Calor de Correlaciones')\n",
    "plt.show()"
   ]
  }
 ],
 "metadata": {
  "kernelspec": {
   "display_name": "Python 3",
   "language": "python",
   "name": "python3"
  },
  "language_info": {
   "codemirror_mode": {
    "name": "ipython",
    "version": 3
   },
   "file_extension": ".py",
   "mimetype": "text/x-python",
   "name": "python",
   "nbconvert_exporter": "python",
   "pygments_lexer": "ipython3",
   "version": "3.11.6"
  }
 },
 "nbformat": 4,
 "nbformat_minor": 2
}
