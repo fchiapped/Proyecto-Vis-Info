{
 "cells": [
  {
   "cell_type": "markdown",
   "metadata": {},
   "source": [
    "## Web Scrapping para obtener los Indice de Masa Corporal"
   ]
  },
  {
   "cell_type": "code",
   "execution_count": 49,
   "metadata": {},
   "outputs": [],
   "source": [
    "import requests\n",
    "import pandas as pd\n",
    "from bs4 import BeautifulSoup"
   ]
  },
  {
   "cell_type": "code",
   "execution_count": 50,
   "metadata": {},
   "outputs": [],
   "source": [
    "response = requests.get(\n",
    "\turl=\"https://es.wikipedia.org/wiki/Anexo:%C3%8Dndice_de_masa_corporal_de_la_poblaci%C3%B3n_por_pa%C3%ADs\",\n",
    ")"
   ]
  },
  {
   "cell_type": "code",
   "execution_count": 51,
   "metadata": {},
   "outputs": [],
   "source": [
    "def scrape_wiki_table(url):\n",
    "    response = requests.get(url)\n",
    "    soup = BeautifulSoup(response.content, 'html.parser')\n",
    "\n",
    "    table = soup.find('table', {'class': 'wikitable'})\n",
    "\n",
    "    headers = [header.text.strip() for header in table.find_all('th')]\n",
    "    rows = []\n",
    "    for row in table.find_all('tr'):\n",
    "        cells = row.find_all('td')\n",
    "        if len(cells) > 0:\n",
    "            row_data = [cell.text.strip() for cell in cells]\n",
    "            if len(row_data) < len(headers):\n",
    "                row_data += [''] * (len(headers) - len(row_data))  # Append empty strings for missing cells\n",
    "            rows.append(row_data)\n",
    "\n",
    "    df = pd.DataFrame(rows, columns=headers)\n",
    "    return df\n",
    "\n",
    "df = scrape_wiki_table(\"https://es.wikipedia.org/wiki/Anexo:%C3%8Dndice_de_masa_corporal_de_la_poblaci%C3%B3n_por_pa%C3%ADs\")\n",
    "df = df[[\"País\", \"Porcentaje global\", \"Porcentaje en hombres\", \"Porcentaje en mujeres\"]]\n",
    "df.rename(columns={\n",
    "    \"Porcentaje en hombres\": \"IMC_Hombres\",\n",
    "    \"Porcentaje global\": \"IMC_Global\",\n",
    "    \"Porcentaje en mujeres\": \"IMC_Mujeres\"\n",
    "}, inplace=True)\n",
    "\n",
    "df.to_csv('IMC.csv', index=False)"
   ]
  }
 ],
 "metadata": {
  "kernelspec": {
   "display_name": "Python 3",
   "language": "python",
   "name": "python3"
  },
  "language_info": {
   "codemirror_mode": {
    "name": "ipython",
    "version": 3
   },
   "file_extension": ".py",
   "mimetype": "text/x-python",
   "name": "python",
   "nbconvert_exporter": "python",
   "pygments_lexer": "ipython3",
   "version": "3.11.6"
  }
 },
 "nbformat": 4,
 "nbformat_minor": 2
}
